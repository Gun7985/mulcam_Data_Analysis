{
  "nbformat": 4,
  "nbformat_minor": 0,
  "metadata": {
    "colab": {
      "provenance": [],
      "machine_shape": "hm",
      "gpuType": "L4"
    },
    "kernelspec": {
      "name": "python3",
      "display_name": "Python 3"
    },
    "language_info": {
      "name": "python"
    },
    "accelerator": "GPU"
  },
  "cells": [
    {
      "cell_type": "code",
      "execution_count": 1,
      "metadata": {
        "colab": {
          "base_uri": "https://localhost:8080/"
        },
        "id": "p1TdCmEfnRpt",
        "outputId": "f52e228e-df62-4009-e445-ebf5783c2b10"
      },
      "outputs": [
        {
          "output_type": "stream",
          "name": "stdout",
          "text": [
            "Cloning into 'data-ch20'...\n",
            "remote: Enumerating objects: 265, done.\u001b[K\n",
            "remote: Counting objects: 100% (265/265), done.\u001b[K\n",
            "remote: Compressing objects: 100% (265/265), done.\u001b[K\n",
            "remote: Total 265 (delta 0), reused 265 (delta 0), pack-reused 0\u001b[K\n",
            "Receiving objects: 100% (265/265), 1.86 MiB | 44.33 MiB/s, done.\n"
          ]
        }
      ],
      "source": [
        "# 전이 학습\n",
        "!git clone https://github.com/taehojo/data-ch20.git"
      ]
    },
    {
      "cell_type": "code",
      "source": [
        "from tensorflow.keras.models import Sequential\n",
        "from tensorflow.keras.layers import Dense, Activation, Dropout, Flatten, Conv2D, MaxPooling2D\n",
        "from tensorflow.keras.preprocessing.image import ImageDataGenerator\n",
        "from tensorflow.keras.callbacks import EarlyStopping\n",
        "from tensorflow.keras import optimizers, Input, models, layers, optimizers, metrics\n",
        "\n",
        "import numpy as np\n",
        "import pandas as pd\n",
        "import matplotlib.pyplot as plt"
      ],
      "metadata": {
        "id": "NF87ZpzHn2-W"
      },
      "execution_count": 2,
      "outputs": []
    },
    {
      "cell_type": "code",
      "source": [
        "path_train = \"/content/data-ch20/train\"\n",
        "\n",
        "# 학습 데이터 셋을 이미지 증강 설정\n",
        "train_datagen = ImageDataGenerator(rescale = 1./255,\n",
        "                   # 주어진 이미지 크기 설정(0-1 설정>>정규화)\n",
        "                   horizontal_flip = True,\n",
        "                   # 수평 대칭 이미지 50% 확률로 만들어 추가\n",
        "                   #vertical_flip = True,\n",
        "                   # 수직 대칭 이미지 50% 확률로 만들어 추가\n",
        "                   width_shift_range = 0.1,\n",
        "                   height_shift_range = 0.1,\n",
        "                   # 전체 크기의 10% 범위 내 좌우/상하 이동\n",
        "                   rotation_range = 5,\n",
        "                   # 정해진 각도(5도)만큰 회전\n",
        "                   #shear_range=0.7,\n",
        "                   #좌표 하나 고정, 나머지 이동\n",
        "                   zoom_range=1.2,\n",
        "                   # 확대/축소\n",
        "                   fill_mode='nearest'\n",
        "                   # 빈 공간 채움. nearest : 주변에 가장 비슷한 색\n",
        "                   )\n",
        "\n",
        "# 학습 데이터 셋이 있는 폴더 위치 지정\n",
        "train_generator =\\\n",
        "train_datagen.flow_from_directory(path_train,\n",
        "                                  target_size = (150,150),\n",
        "                                  batch_size = 5,\n",
        "                                  class_mode = 'binary')\n"
      ],
      "metadata": {
        "colab": {
          "base_uri": "https://localhost:8080/"
        },
        "id": "fz7FzmWyoiKI",
        "outputId": "c8c0854e-5dac-417f-af09-0dcc021d052b"
      },
      "execution_count": 3,
      "outputs": [
        {
          "output_type": "stream",
          "name": "stdout",
          "text": [
            "Found 160 images belonging to 2 classes.\n"
          ]
        }
      ]
    },
    {
      "cell_type": "code",
      "source": [
        "path_test = \"/content/data-ch20/test\"\n",
        "\n",
        "# 학습 데이터 셋을 이미지 증강 설정\n",
        "test_datagen = ImageDataGenerator(rescale = 1./255)\n",
        "# 반드시 정규화는 해준다.\n",
        "\n",
        "# 학습 데이터 셋이 있는 폴더 위치 지정\n",
        "test_generator =\\\n",
        "test_datagen.flow_from_directory(path_test,\n",
        "                                  target_size = (150,150),\n",
        "                                  batch_size = 5,\n",
        "                                  class_mode = 'binary')\n"
      ],
      "metadata": {
        "colab": {
          "base_uri": "https://localhost:8080/"
        },
        "id": "rhlmjEKnqxB5",
        "outputId": "d1e14b7e-868d-4a7e-9536-2e731645378c"
      },
      "execution_count": 4,
      "outputs": [
        {
          "output_type": "stream",
          "name": "stdout",
          "text": [
            "Found 120 images belonging to 2 classes.\n"
          ]
        }
      ]
    },
    {
      "cell_type": "code",
      "source": [
        "# 모델링 (CNN)\n",
        "\n",
        "model = Sequential()\n",
        "\n",
        "# feature extraction\n",
        "model.add(Conv2D(32, (3,3), input_shape = (150,150,3)))\n",
        "# channel 흑백(1), 컬러(3) r,g,b\n",
        "model.add(Activation('relu'))\n",
        "model.add(MaxPooling2D(pool_size = (2,2)))\n",
        "\n",
        "model.add(Conv2D(32, (3,3)))\n",
        "# channel 흑백(1), 컬러(3) r,g,b\n",
        "model.add(Activation('relu'))\n",
        "model.add(MaxPooling2D(pool_size = (2,2)))\n",
        "\n",
        "model.add(Conv2D(64, (3,3)))\n",
        "# channel 흑백(1), 컬러(3) r,g,b\n",
        "model.add(Activation('relu'))\n",
        "model.add(MaxPooling2D(pool_size = (2,2)))\n",
        "\n",
        "# 2차원 >> 1차원 변경\n",
        "model.add(Flatten())\n",
        "model.add(Dense(64))\n",
        "model.add(Activation('relu'))\n",
        "model.add(Dropout(0.5))\n",
        "model.add(Dense(1, activation='sigmoid'))\n",
        "\n",
        "model.summary()\n"
      ],
      "metadata": {
        "colab": {
          "base_uri": "https://localhost:8080/"
        },
        "id": "bw3Bk_bKrSxA",
        "outputId": "74354b2e-fcdf-4f98-cac6-4d14681f4789"
      },
      "execution_count": 5,
      "outputs": [
        {
          "output_type": "stream",
          "name": "stdout",
          "text": [
            "Model: \"sequential\"\n",
            "_________________________________________________________________\n",
            " Layer (type)                Output Shape              Param #   \n",
            "=================================================================\n",
            " conv2d (Conv2D)             (None, 148, 148, 32)      896       \n",
            "                                                                 \n",
            " activation (Activation)     (None, 148, 148, 32)      0         \n",
            "                                                                 \n",
            " max_pooling2d (MaxPooling2  (None, 74, 74, 32)        0         \n",
            " D)                                                              \n",
            "                                                                 \n",
            " conv2d_1 (Conv2D)           (None, 72, 72, 32)        9248      \n",
            "                                                                 \n",
            " activation_1 (Activation)   (None, 72, 72, 32)        0         \n",
            "                                                                 \n",
            " max_pooling2d_1 (MaxPoolin  (None, 36, 36, 32)        0         \n",
            " g2D)                                                            \n",
            "                                                                 \n",
            " conv2d_2 (Conv2D)           (None, 34, 34, 64)        18496     \n",
            "                                                                 \n",
            " activation_2 (Activation)   (None, 34, 34, 64)        0         \n",
            "                                                                 \n",
            " max_pooling2d_2 (MaxPoolin  (None, 17, 17, 64)        0         \n",
            " g2D)                                                            \n",
            "                                                                 \n",
            " flatten (Flatten)           (None, 18496)             0         \n",
            "                                                                 \n",
            " dense (Dense)               (None, 64)                1183808   \n",
            "                                                                 \n",
            " activation_3 (Activation)   (None, 64)                0         \n",
            "                                                                 \n",
            " dropout (Dropout)           (None, 64)                0         \n",
            "                                                                 \n",
            " dense_1 (Dense)             (None, 1)                 65        \n",
            "                                                                 \n",
            "=================================================================\n",
            "Total params: 1212513 (4.63 MB)\n",
            "Trainable params: 1212513 (4.63 MB)\n",
            "Non-trainable params: 0 (0.00 Byte)\n",
            "_________________________________________________________________\n"
          ]
        }
      ]
    },
    {
      "cell_type": "code",
      "source": [
        "# 모델 실행\n",
        "model.compile(loss='binary_crossentropy',\n",
        "              optimizer=optimizers.Adam(learning_rate=0.0002),\n",
        "              metrics=['accuracy'])\n",
        "\n",
        "# 학습 조기 중단\n",
        "early_stopping_callback = EarlyStopping(monitor='val_loss', patience=10)\n",
        "\n",
        "# 모델 훈련\n",
        "history = model.fit(\n",
        "    train_generator,\n",
        "    epochs=100,\n",
        "    validation_data = test_generator,\n",
        "    validation_steps = 10,\n",
        "    callbacks = [early_stopping_callback]\n",
        ")"
      ],
      "metadata": {
        "colab": {
          "base_uri": "https://localhost:8080/"
        },
        "id": "Um-zWanesLIg",
        "outputId": "d5f854fc-1833-4549-c2e7-36703c7d91e8"
      },
      "execution_count": 6,
      "outputs": [
        {
          "output_type": "stream",
          "name": "stdout",
          "text": [
            "Epoch 1/100\n",
            "32/32 [==============================] - 7s 35ms/step - loss: 0.6974 - accuracy: 0.5125 - val_loss: 0.6993 - val_accuracy: 0.4400\n",
            "Epoch 2/100\n",
            "32/32 [==============================] - 1s 30ms/step - loss: 0.6954 - accuracy: 0.5000 - val_loss: 0.6854 - val_accuracy: 0.5800\n",
            "Epoch 3/100\n",
            "32/32 [==============================] - 1s 30ms/step - loss: 0.6948 - accuracy: 0.4750 - val_loss: 0.6917 - val_accuracy: 0.6600\n",
            "Epoch 4/100\n",
            "32/32 [==============================] - 1s 30ms/step - loss: 0.6928 - accuracy: 0.5312 - val_loss: 0.6911 - val_accuracy: 0.4600\n",
            "Epoch 5/100\n",
            "32/32 [==============================] - 1s 30ms/step - loss: 0.6898 - accuracy: 0.5500 - val_loss: 0.6860 - val_accuracy: 0.6200\n",
            "Epoch 6/100\n",
            "32/32 [==============================] - 1s 29ms/step - loss: 0.6840 - accuracy: 0.5437 - val_loss: 0.6923 - val_accuracy: 0.4200\n",
            "Epoch 7/100\n",
            "32/32 [==============================] - 1s 30ms/step - loss: 0.6884 - accuracy: 0.5063 - val_loss: 0.6765 - val_accuracy: 0.5400\n",
            "Epoch 8/100\n",
            "32/32 [==============================] - 1s 30ms/step - loss: 0.6911 - accuracy: 0.5063 - val_loss: 0.6645 - val_accuracy: 0.5600\n",
            "Epoch 9/100\n",
            "32/32 [==============================] - 1s 30ms/step - loss: 0.6963 - accuracy: 0.4875 - val_loss: 0.6721 - val_accuracy: 0.9400\n",
            "Epoch 10/100\n",
            "32/32 [==============================] - 1s 30ms/step - loss: 0.6736 - accuracy: 0.6500 - val_loss: 0.6532 - val_accuracy: 0.7600\n",
            "Epoch 11/100\n",
            "32/32 [==============================] - 1s 30ms/step - loss: 0.6745 - accuracy: 0.5813 - val_loss: 0.6541 - val_accuracy: 0.5600\n",
            "Epoch 12/100\n",
            "32/32 [==============================] - 1s 33ms/step - loss: 0.5981 - accuracy: 0.7625 - val_loss: 0.5993 - val_accuracy: 0.6000\n",
            "Epoch 13/100\n",
            "32/32 [==============================] - 1s 30ms/step - loss: 0.6736 - accuracy: 0.6438 - val_loss: 0.6096 - val_accuracy: 0.6400\n",
            "Epoch 14/100\n",
            "32/32 [==============================] - 1s 30ms/step - loss: 0.6794 - accuracy: 0.5750 - val_loss: 0.6201 - val_accuracy: 0.9400\n",
            "Epoch 15/100\n",
            "32/32 [==============================] - 1s 29ms/step - loss: 0.6519 - accuracy: 0.6812 - val_loss: 0.6542 - val_accuracy: 0.5000\n",
            "Epoch 16/100\n",
            "32/32 [==============================] - 1s 30ms/step - loss: 0.6544 - accuracy: 0.5813 - val_loss: 0.5539 - val_accuracy: 0.8800\n",
            "Epoch 17/100\n",
            "32/32 [==============================] - 1s 30ms/step - loss: 0.5880 - accuracy: 0.7563 - val_loss: 0.5135 - val_accuracy: 0.9200\n",
            "Epoch 18/100\n",
            "32/32 [==============================] - 1s 30ms/step - loss: 0.5828 - accuracy: 0.6562 - val_loss: 0.4415 - val_accuracy: 0.9200\n",
            "Epoch 19/100\n",
            "32/32 [==============================] - 1s 29ms/step - loss: 0.5638 - accuracy: 0.7188 - val_loss: 0.4569 - val_accuracy: 0.8600\n",
            "Epoch 20/100\n",
            "32/32 [==============================] - 1s 30ms/step - loss: 0.4749 - accuracy: 0.8062 - val_loss: 0.3623 - val_accuracy: 0.9000\n",
            "Epoch 21/100\n",
            "32/32 [==============================] - 1s 30ms/step - loss: 0.4926 - accuracy: 0.7500 - val_loss: 0.2964 - val_accuracy: 0.9600\n",
            "Epoch 22/100\n",
            "32/32 [==============================] - 1s 30ms/step - loss: 0.5712 - accuracy: 0.6875 - val_loss: 0.3773 - val_accuracy: 0.8600\n",
            "Epoch 23/100\n",
            "32/32 [==============================] - 1s 30ms/step - loss: 0.4935 - accuracy: 0.7750 - val_loss: 0.3064 - val_accuracy: 0.9000\n",
            "Epoch 24/100\n",
            "32/32 [==============================] - 1s 30ms/step - loss: 0.4172 - accuracy: 0.8062 - val_loss: 0.4251 - val_accuracy: 0.7800\n",
            "Epoch 25/100\n",
            "32/32 [==============================] - 1s 30ms/step - loss: 0.4308 - accuracy: 0.7875 - val_loss: 0.1915 - val_accuracy: 1.0000\n",
            "Epoch 26/100\n",
            "32/32 [==============================] - 1s 30ms/step - loss: 0.4200 - accuracy: 0.8062 - val_loss: 0.4430 - val_accuracy: 0.7800\n",
            "Epoch 27/100\n",
            "32/32 [==============================] - 1s 30ms/step - loss: 0.4733 - accuracy: 0.7688 - val_loss: 0.3916 - val_accuracy: 0.8000\n",
            "Epoch 28/100\n",
            "32/32 [==============================] - 1s 30ms/step - loss: 0.4393 - accuracy: 0.7875 - val_loss: 0.4194 - val_accuracy: 0.7800\n",
            "Epoch 29/100\n",
            "32/32 [==============================] - 1s 29ms/step - loss: 0.4593 - accuracy: 0.7688 - val_loss: 0.3674 - val_accuracy: 0.8600\n",
            "Epoch 30/100\n",
            "32/32 [==============================] - 1s 29ms/step - loss: 0.4147 - accuracy: 0.8250 - val_loss: 0.2166 - val_accuracy: 0.9000\n",
            "Epoch 31/100\n",
            "32/32 [==============================] - 1s 30ms/step - loss: 0.3420 - accuracy: 0.8750 - val_loss: 0.2951 - val_accuracy: 0.8600\n",
            "Epoch 32/100\n",
            "32/32 [==============================] - 1s 29ms/step - loss: 0.4031 - accuracy: 0.7875 - val_loss: 0.2272 - val_accuracy: 0.9000\n",
            "Epoch 33/100\n",
            "32/32 [==============================] - 1s 29ms/step - loss: 0.3255 - accuracy: 0.8750 - val_loss: 0.2125 - val_accuracy: 0.8800\n",
            "Epoch 34/100\n",
            "32/32 [==============================] - 1s 30ms/step - loss: 0.3082 - accuracy: 0.8687 - val_loss: 0.1197 - val_accuracy: 0.9600\n",
            "Epoch 35/100\n",
            "32/32 [==============================] - 1s 30ms/step - loss: 0.3469 - accuracy: 0.8625 - val_loss: 0.2131 - val_accuracy: 0.9200\n",
            "Epoch 36/100\n",
            "32/32 [==============================] - 1s 29ms/step - loss: 0.4266 - accuracy: 0.8313 - val_loss: 0.3272 - val_accuracy: 0.8200\n",
            "Epoch 37/100\n",
            "32/32 [==============================] - 1s 30ms/step - loss: 0.4245 - accuracy: 0.8125 - val_loss: 0.1055 - val_accuracy: 0.9800\n",
            "Epoch 38/100\n",
            "32/32 [==============================] - 1s 30ms/step - loss: 0.3835 - accuracy: 0.8188 - val_loss: 0.2081 - val_accuracy: 0.9400\n",
            "Epoch 39/100\n",
            "32/32 [==============================] - 1s 30ms/step - loss: 0.3941 - accuracy: 0.8125 - val_loss: 0.4102 - val_accuracy: 0.8200\n",
            "Epoch 40/100\n",
            "32/32 [==============================] - 1s 29ms/step - loss: 0.3922 - accuracy: 0.8500 - val_loss: 0.1985 - val_accuracy: 0.9200\n",
            "Epoch 41/100\n",
            "32/32 [==============================] - 1s 29ms/step - loss: 0.3156 - accuracy: 0.8875 - val_loss: 0.1600 - val_accuracy: 0.9600\n",
            "Epoch 42/100\n",
            "32/32 [==============================] - 1s 30ms/step - loss: 0.3468 - accuracy: 0.8750 - val_loss: 0.1301 - val_accuracy: 0.9400\n",
            "Epoch 43/100\n",
            "32/32 [==============================] - 1s 30ms/step - loss: 0.2667 - accuracy: 0.8938 - val_loss: 0.2938 - val_accuracy: 0.8800\n",
            "Epoch 44/100\n",
            "32/32 [==============================] - 1s 33ms/step - loss: 0.3459 - accuracy: 0.8438 - val_loss: 0.1365 - val_accuracy: 0.9200\n",
            "Epoch 45/100\n",
            "32/32 [==============================] - 1s 30ms/step - loss: 0.2873 - accuracy: 0.9125 - val_loss: 0.4106 - val_accuracy: 0.8400\n",
            "Epoch 46/100\n",
            "32/32 [==============================] - 1s 30ms/step - loss: 0.3292 - accuracy: 0.8625 - val_loss: 0.2197 - val_accuracy: 0.9000\n",
            "Epoch 47/100\n",
            "32/32 [==============================] - 1s 30ms/step - loss: 0.3786 - accuracy: 0.8313 - val_loss: 0.3611 - val_accuracy: 0.8400\n"
          ]
        }
      ]
    },
    {
      "cell_type": "code",
      "source": [
        "# 검증셋과 학습셋의 오차 저장\n",
        "\n",
        "y_vloss = history.history['val_loss']\n",
        "y_loss = history.history['loss']\n",
        "\n",
        "# 그래프로 표현\n",
        "x_len = np.arange(len(y_loss))\n",
        "plt.plot(x_len, y_vloss, marker='.', c='red', label='Testset_loss')\n",
        "plt.plot(x_len, y_loss, marker='.', c='blue', label='Trainset_loss')\n",
        "\n",
        "plt.legend(loc='best')\n",
        "plt.grid()\n",
        "plt.xlabel('epoch')\n",
        "plt.ylabel('loss')\n",
        "plt.show()"
      ],
      "metadata": {
        "colab": {
          "base_uri": "https://localhost:8080/",
          "height": 449
        },
        "id": "WLUguygWteTN",
        "outputId": "4dfa8082-9512-4ba9-a4a1-de5ae3a93d9e"
      },
      "execution_count": 7,
      "outputs": [
        {
          "output_type": "display_data",
          "data": {
            "text/plain": [
              "<Figure size 640x480 with 1 Axes>"
            ],
            "image/png": "[encoded data removed]"
          },
          "metadata": {}
        }
      ]
    },
    {
      "cell_type": "markdown",
      "source": [
        "전이 학습 (Transfer Learning)"
      ],
      "metadata": {
        "id": "xCCZV_ZuugmP"
      }
    },
    {
      "cell_type": "code",
      "source": [
        "from tensorflow.keras.applications import VGG16"
      ],
      "metadata": {
        "id": "ixFjwFD0uejm"
      },
      "execution_count": 8,
      "outputs": []
    },
    {
      "cell_type": "code",
      "source": [
        "transfer_model = VGG16(weights='imagenet', include_top=False, input_shape=(150,150,3))\n",
        "#  include_top=False : 가져온 모델의 마지막 분류기는 사용하지 않음\n",
        "transfer_model.trainable = False\n",
        "# 가져온 모델을 훈련 시키지 않음(있는 그대로 사용)\n",
        "transfer_model.summary()"
      ],
      "metadata": {
        "colab": {
          "base_uri": "https://localhost:8080/"
        },
        "id": "VTks8213upJu",
        "outputId": "ae3ee99b-2c45-4e93-99f2-0f61747c2ba6"
      },
      "execution_count": 9,
      "outputs": [
        {
          "output_type": "stream",
          "name": "stdout",
          "text": [
            "Downloading data from https://storage.googleapis.com/tensorflow/keras-applications/vgg16/vgg16_weights_tf_dim_ordering_tf_kernels_notop.h5\n",
            "58889256/58889256 [==============================] - 4s 0us/step\n",
            "Model: \"vgg16\"\n",
            "_________________________________________________________________\n",
            " Layer (type)                Output Shape              Param #   \n",
            "=================================================================\n",
            " input_1 (InputLayer)        [(None, 150, 150, 3)]     0         \n",
            "                                                                 \n",
            " block1_conv1 (Conv2D)       (None, 150, 150, 64)      1792      \n",
            "                                                                 \n",
            " block1_conv2 (Conv2D)       (None, 150, 150, 64)      36928     \n",
            "                                                                 \n",
            " block1_pool (MaxPooling2D)  (None, 75, 75, 64)        0         \n",
            "                                                                 \n",
            " block2_conv1 (Conv2D)       (None, 75, 75, 128)       73856     \n",
            "                                                                 \n",
            " block2_conv2 (Conv2D)       (None, 75, 75, 128)       147584    \n",
            "                                                                 \n",
            " block2_pool (MaxPooling2D)  (None, 37, 37, 128)       0         \n",
            "                                                                 \n",
            " block3_conv1 (Conv2D)       (None, 37, 37, 256)       295168    \n",
            "                                                                 \n",
            " block3_conv2 (Conv2D)       (None, 37, 37, 256)       590080    \n",
            "                                                                 \n",
            " block3_conv3 (Conv2D)       (None, 37, 37, 256)       590080    \n",
            "                                                                 \n",
            " block3_pool (MaxPooling2D)  (None, 18, 18, 256)       0         \n",
            "                                                                 \n",
            " block4_conv1 (Conv2D)       (None, 18, 18, 512)       1180160   \n",
            "                                                                 \n",
            " block4_conv2 (Conv2D)       (None, 18, 18, 512)       2359808   \n",
            "                                                                 \n",
            " block4_conv3 (Conv2D)       (None, 18, 18, 512)       2359808   \n",
            "                                                                 \n",
            " block4_pool (MaxPooling2D)  (None, 9, 9, 512)         0         \n",
            "                                                                 \n",
            " block5_conv1 (Conv2D)       (None, 9, 9, 512)         2359808   \n",
            "                                                                 \n",
            " block5_conv2 (Conv2D)       (None, 9, 9, 512)         2359808   \n",
            "                                                                 \n",
            " block5_conv3 (Conv2D)       (None, 9, 9, 512)         2359808   \n",
            "                                                                 \n",
            " block5_pool (MaxPooling2D)  (None, 4, 4, 512)         0         \n",
            "                                                                 \n",
            "=================================================================\n",
            "Total params: 14714688 (56.13 MB)\n",
            "Trainable params: 0 (0.00 Byte)\n",
            "Non-trainable params: 14714688 (56.13 MB)\n",
            "_________________________________________________________________\n"
          ]
        }
      ]
    },
    {
      "cell_type": "code",
      "source": [
        "finetune_model = models.Sequential()\n",
        "finetune_model.add(transfer_model)\n",
        "finetune_model.add(Flatten())\n",
        "finetune_model.add(Dense(64, activation='relu'))\n",
        "finetune_model.add(Dense(1, activation='sigmoid'))\n",
        "\n",
        "finetune_model.summary()"
      ],
      "metadata": {
        "colab": {
          "base_uri": "https://localhost:8080/"
        },
        "id": "7FLZKEQ-yO-7",
        "outputId": "5bee2a1f-bdf5-4a82-aea8-2afabd2da598"
      },
      "execution_count": 10,
      "outputs": [
        {
          "output_type": "stream",
          "name": "stdout",
          "text": [
            "Model: \"sequential_1\"\n",
            "_________________________________________________________________\n",
            " Layer (type)                Output Shape              Param #   \n",
            "=================================================================\n",
            " vgg16 (Functional)          (None, 4, 4, 512)         14714688  \n",
            "                                                                 \n",
            " flatten_1 (Flatten)         (None, 8192)              0         \n",
            "                                                                 \n",
            " dense_2 (Dense)             (None, 64)                524352    \n",
            "                                                                 \n",
            " dense_3 (Dense)             (None, 1)                 65        \n",
            "                                                                 \n",
            "=================================================================\n",
            "Total params: 15239105 (58.13 MB)\n",
            "Trainable params: 524417 (2.00 MB)\n",
            "Non-trainable params: 14714688 (56.13 MB)\n",
            "_________________________________________________________________\n"
          ]
        }
      ]
    },
    {
      "cell_type": "code",
      "source": [
        "# 모델 실행\n",
        "finetune_model.compile(loss='binary_crossentropy',\n",
        "              optimizer=optimizers.Adam(learning_rate=0.0002),\n",
        "              metrics=['accuracy'])\n",
        "\n",
        "\n",
        "# 학습 조기 중단\n",
        "Ealry_stopping_callback = EarlyStopping(monitor='val_loss', patience=10)\n",
        "\n",
        "# 모델 실행\n",
        "history = finetune_model.fit(\n",
        "    train_generator,\n",
        "    epochs=100,\n",
        "    validation_data = test_generator,\n",
        "    validation_steps = 10,\n",
        "    callbacks = [Ealry_stopping_callback]\n",
        ")"
      ],
      "metadata": {
        "colab": {
          "base_uri": "https://localhost:8080/"
        },
        "id": "LpO0_McFyPC1",
        "outputId": "a410158e-abd1-493e-ffcc-6e4263c0421b"
      },
      "execution_count": 11,
      "outputs": [
        {
          "output_type": "stream",
          "name": "stdout",
          "text": [
            "Epoch 1/100\n",
            "32/32 [==============================] - 3s 37ms/step - loss: 0.7730 - accuracy: 0.5000 - val_loss: 0.6253 - val_accuracy: 0.5200\n",
            "Epoch 2/100\n",
            "32/32 [==============================] - 1s 32ms/step - loss: 0.6752 - accuracy: 0.5875 - val_loss: 0.5469 - val_accuracy: 0.6800\n",
            "Epoch 3/100\n",
            "32/32 [==============================] - 1s 32ms/step - loss: 0.6353 - accuracy: 0.6062 - val_loss: 0.5494 - val_accuracy: 0.7400\n",
            "Epoch 4/100\n",
            "32/32 [==============================] - 1s 31ms/step - loss: 0.6135 - accuracy: 0.6187 - val_loss: 0.5182 - val_accuracy: 0.7600\n",
            "Epoch 5/100\n",
            "32/32 [==============================] - 1s 30ms/step - loss: 0.5750 - accuracy: 0.6938 - val_loss: 0.4612 - val_accuracy: 0.8400\n",
            "Epoch 6/100\n",
            "32/32 [==============================] - 1s 31ms/step - loss: 0.5863 - accuracy: 0.6938 - val_loss: 0.4145 - val_accuracy: 0.8600\n",
            "Epoch 7/100\n",
            "32/32 [==============================] - 1s 31ms/step - loss: 0.5813 - accuracy: 0.6812 - val_loss: 0.3943 - val_accuracy: 0.9000\n",
            "Epoch 8/100\n",
            "32/32 [==============================] - 1s 31ms/step - loss: 0.5231 - accuracy: 0.7312 - val_loss: 0.3774 - val_accuracy: 0.9000\n",
            "Epoch 9/100\n",
            "32/32 [==============================] - 1s 30ms/step - loss: 0.5764 - accuracy: 0.6562 - val_loss: 0.3962 - val_accuracy: 0.8400\n",
            "Epoch 10/100\n",
            "32/32 [==============================] - 1s 30ms/step - loss: 0.5265 - accuracy: 0.7500 - val_loss: 0.2870 - val_accuracy: 0.9200\n",
            "Epoch 11/100\n",
            "32/32 [==============================] - 1s 30ms/step - loss: 0.5062 - accuracy: 0.7500 - val_loss: 0.4626 - val_accuracy: 0.7000\n",
            "Epoch 12/100\n",
            "32/32 [==============================] - 1s 31ms/step - loss: 0.4660 - accuracy: 0.7812 - val_loss: 0.2782 - val_accuracy: 0.9200\n",
            "Epoch 13/100\n",
            "32/32 [==============================] - 1s 31ms/step - loss: 0.4556 - accuracy: 0.7625 - val_loss: 0.2660 - val_accuracy: 0.9600\n",
            "Epoch 14/100\n",
            "32/32 [==============================] - 1s 31ms/step - loss: 0.4873 - accuracy: 0.7375 - val_loss: 0.2482 - val_accuracy: 0.9200\n",
            "Epoch 15/100\n",
            "32/32 [==============================] - 1s 30ms/step - loss: 0.4337 - accuracy: 0.8000 - val_loss: 0.2057 - val_accuracy: 0.9400\n",
            "Epoch 16/100\n",
            "32/32 [==============================] - 1s 30ms/step - loss: 0.5184 - accuracy: 0.7000 - val_loss: 0.2827 - val_accuracy: 0.9200\n",
            "Epoch 17/100\n",
            "32/32 [==============================] - 1s 30ms/step - loss: 0.4573 - accuracy: 0.7563 - val_loss: 0.2642 - val_accuracy: 0.9000\n",
            "Epoch 18/100\n",
            "32/32 [==============================] - 1s 30ms/step - loss: 0.4605 - accuracy: 0.7625 - val_loss: 0.2327 - val_accuracy: 0.9600\n",
            "Epoch 19/100\n",
            "32/32 [==============================] - 1s 31ms/step - loss: 0.4263 - accuracy: 0.8188 - val_loss: 0.2655 - val_accuracy: 0.9200\n",
            "Epoch 20/100\n",
            "32/32 [==============================] - 1s 30ms/step - loss: 0.4275 - accuracy: 0.8062 - val_loss: 0.2216 - val_accuracy: 0.9400\n",
            "Epoch 21/100\n",
            "32/32 [==============================] - 1s 31ms/step - loss: 0.3715 - accuracy: 0.8188 - val_loss: 0.2752 - val_accuracy: 0.8800\n",
            "Epoch 22/100\n",
            "32/32 [==============================] - 1s 30ms/step - loss: 0.3910 - accuracy: 0.8188 - val_loss: 0.2082 - val_accuracy: 0.9600\n",
            "Epoch 23/100\n",
            "32/32 [==============================] - 1s 31ms/step - loss: 0.4024 - accuracy: 0.8500 - val_loss: 0.1926 - val_accuracy: 0.9400\n",
            "Epoch 24/100\n",
            "32/32 [==============================] - 1s 30ms/step - loss: 0.3863 - accuracy: 0.8438 - val_loss: 0.2131 - val_accuracy: 0.9200\n",
            "Epoch 25/100\n",
            "32/32 [==============================] - 1s 32ms/step - loss: 0.3769 - accuracy: 0.8062 - val_loss: 0.1795 - val_accuracy: 0.9400\n",
            "Epoch 26/100\n",
            "32/32 [==============================] - 1s 31ms/step - loss: 0.3525 - accuracy: 0.8375 - val_loss: 0.1957 - val_accuracy: 0.9000\n",
            "Epoch 27/100\n",
            "32/32 [==============================] - 1s 30ms/step - loss: 0.3522 - accuracy: 0.8562 - val_loss: 0.1706 - val_accuracy: 0.9800\n",
            "Epoch 28/100\n",
            "32/32 [==============================] - 1s 31ms/step - loss: 0.3858 - accuracy: 0.7937 - val_loss: 0.2347 - val_accuracy: 0.9000\n",
            "Epoch 29/100\n",
            "32/32 [==============================] - 1s 31ms/step - loss: 0.3139 - accuracy: 0.8813 - val_loss: 0.1841 - val_accuracy: 0.9600\n",
            "Epoch 30/100\n",
            "32/32 [==============================] - 1s 30ms/step - loss: 0.3890 - accuracy: 0.7937 - val_loss: 0.2104 - val_accuracy: 0.9400\n",
            "Epoch 31/100\n",
            "32/32 [==============================] - 1s 32ms/step - loss: 0.3373 - accuracy: 0.8625 - val_loss: 0.2369 - val_accuracy: 0.9200\n",
            "Epoch 32/100\n",
            "32/32 [==============================] - 1s 31ms/step - loss: 0.3409 - accuracy: 0.8625 - val_loss: 0.2591 - val_accuracy: 0.8800\n",
            "Epoch 33/100\n",
            "32/32 [==============================] - 1s 31ms/step - loss: 0.3038 - accuracy: 0.8750 - val_loss: 0.1097 - val_accuracy: 0.9800\n",
            "Epoch 34/100\n",
            "32/32 [==============================] - 1s 30ms/step - loss: 0.3793 - accuracy: 0.8313 - val_loss: 0.3090 - val_accuracy: 0.8600\n",
            "Epoch 35/100\n",
            "32/32 [==============================] - 1s 30ms/step - loss: 0.3824 - accuracy: 0.8438 - val_loss: 0.2420 - val_accuracy: 0.9200\n",
            "Epoch 36/100\n",
            "32/32 [==============================] - 1s 31ms/step - loss: 0.3542 - accuracy: 0.8500 - val_loss: 0.1668 - val_accuracy: 0.9400\n",
            "Epoch 37/100\n",
            "32/32 [==============================] - 1s 31ms/step - loss: 0.3011 - accuracy: 0.8687 - val_loss: 0.2030 - val_accuracy: 0.9000\n",
            "Epoch 38/100\n",
            "32/32 [==============================] - 1s 30ms/step - loss: 0.3597 - accuracy: 0.8250 - val_loss: 0.2327 - val_accuracy: 0.8800\n",
            "Epoch 39/100\n",
            "32/32 [==============================] - 1s 32ms/step - loss: 0.3071 - accuracy: 0.8687 - val_loss: 0.1465 - val_accuracy: 0.9400\n",
            "Epoch 40/100\n",
            "32/32 [==============================] - 1s 30ms/step - loss: 0.3700 - accuracy: 0.8188 - val_loss: 0.1478 - val_accuracy: 0.9400\n",
            "Epoch 41/100\n",
            "32/32 [==============================] - 1s 30ms/step - loss: 0.3687 - accuracy: 0.8438 - val_loss: 0.1179 - val_accuracy: 0.9600\n",
            "Epoch 42/100\n",
            "32/32 [==============================] - 1s 31ms/step - loss: 0.3533 - accuracy: 0.8500 - val_loss: 0.2418 - val_accuracy: 0.9000\n",
            "Epoch 43/100\n",
            "32/32 [==============================] - 1s 31ms/step - loss: 0.3376 - accuracy: 0.8562 - val_loss: 0.1438 - val_accuracy: 0.9200\n"
          ]
        }
      ]
    },
    {
      "cell_type": "code",
      "source": [
        "# 검증셋과 학습셋의 오차 저장\n",
        "\n",
        "y_vloss = history.history['val_loss']\n",
        "y_loss = history.history['loss']\n",
        "\n",
        "# 그래프로 표현\n",
        "x_len = np.arange(len(y_loss))\n",
        "plt.plot(x_len, y_vloss, marker='.', c='red', label='Testset_loss')\n",
        "plt.plot(x_len, y_loss, marker='.', c='blue', label='Trainset_loss')\n",
        "\n",
        "plt.legend(loc='best')\n",
        "plt.grid()\n",
        "plt.xlabel('epoch')\n",
        "plt.ylabel('loss')\n",
        "plt.show()"
      ],
      "metadata": {
        "colab": {
          "base_uri": "https://localhost:8080/",
          "height": 452
        },
        "id": "TmuAodIg29TV",
        "outputId": "ed7d79fe-4668-4656-b14f-9c8d41f41601"
      },
      "execution_count": 12,
      "outputs": [
        {
          "output_type": "display_data",
          "data": {
            "text/plain": [
              "<Figure size 640x480 with 1 Axes>"
            ],
            "image/png": "[encoded data removed]"
          },
          "metadata": {}
        }
      ]
    }
  ]
}