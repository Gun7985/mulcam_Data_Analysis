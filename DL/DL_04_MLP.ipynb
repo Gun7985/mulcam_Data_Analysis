{
  "nbformat": 4,
  "nbformat_minor": 0,
  "metadata": {
    "colab": {
      "provenance": []
    },
    "kernelspec": {
      "name": "python3",
      "display_name": "Python 3"
    },
    "language_info": {
      "name": "python"
    }
  },
  "cells": [
    {
      "cell_type": "code",
      "execution_count": 1,
      "metadata": {
        "id": "g60SgSn9KGud"
      },
      "outputs": [],
      "source": [
        "# MLP (Multi-layer Perceptron : 다층 퍼셉트론)\n",
        "\n",
        "# 미션: 다층 퍼셉트론으로 XOR 문제 해결\n",
        "\n",
        "import numpy as np\n",
        "import pandas as pd"
      ]
    },
    {
      "cell_type": "code",
      "source": [
        "# 가중치와 바이어스 설정(임의 값)\n",
        "\n",
        "w11 = np.array([-2,-2])\n",
        "w12 = np.array([2,2])\n",
        "w2 = np.array([1,1])\n",
        "\n",
        "b1 = 3\n",
        "b2 = -1\n",
        "b3 = -1"
      ],
      "metadata": {
        "id": "n31H7_jFKYbb"
      },
      "execution_count": 2,
      "outputs": []
    },
    {
      "cell_type": "code",
      "source": [
        "# perceptorn\n",
        "\n",
        "def MLP(x,w,b):\n",
        "   y = np.sum(w*x)+b # 가중합\n",
        "   if y<=0:\n",
        "    return 0\n",
        "   else:\n",
        "    return 1"
      ],
      "metadata": {
        "id": "SGMEU3lrKqDV"
      },
      "execution_count": 6,
      "outputs": []
    },
    {
      "cell_type": "code",
      "source": [
        "# XOR  문제 해결 위한 게이트 설정\n",
        "\n",
        "# AND(NAND, OR) >> XOR\n",
        "\n",
        "# NAND\n",
        "def NAND(x1, x2):\n",
        "    return MLP(np.array([x1, x2]), w11, b1)\n",
        "\n",
        "# OR\n",
        "def OR(x1, x2):\n",
        "    return MLP(np.array([x1, x2]), w12, b2)\n",
        "\n",
        "# AND\n",
        "def AND(x1, x2):\n",
        "    return MLP(np.array([x1, x2]), w2, b3)\n",
        "\n",
        "# XOR\n",
        "def XOR(x1, x2):\n",
        "    return AND(NAND(x1,x2), OR(x1,x2))"
      ],
      "metadata": {
        "id": "CJMzqEooK8os"
      },
      "execution_count": 4,
      "outputs": []
    },
    {
      "cell_type": "code",
      "source": [
        "# x1, x2 값을 번갈아 대입 >> 최종 값 출력\n",
        "\n",
        "for x in [(0,0),(1,0),(0,1),(1,1)]:\n",
        "    y = XOR(x[0], x[1])\n",
        "    print(\"입력값: \"+ str(x) +\"출력값:\" + str(y))"
      ],
      "metadata": {
        "colab": {
          "base_uri": "https://localhost:8080/"
        },
        "id": "l0W8_Oe3L2eA",
        "outputId": "ce19c29f-fe25-41ae-abb7-574450f0b2e7"
      },
      "execution_count": 8,
      "outputs": [
        {
          "output_type": "stream",
          "name": "stdout",
          "text": [
            "입력값: (0, 0)출력값:0\n",
            "입력값: (1, 0)출력값:1\n",
            "입력값: (0, 1)출력값:1\n",
            "입력값: (1, 1)출력값:0\n"
          ]
        }
      ]
    },
    {
      "cell_type": "code",
      "source": [],
      "metadata": {
        "id": "uOa3YXJiMRs4"
      },
      "execution_count": null,
      "outputs": []
    }
  ]
}