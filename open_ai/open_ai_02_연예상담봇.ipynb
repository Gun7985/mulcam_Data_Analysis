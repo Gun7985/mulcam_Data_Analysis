{
  "cells": [
    {
      "cell_type": "code",
      "execution_count": 1,
      "metadata": {
        "colab": {
          "base_uri": "https://localhost:8080/"
        },
        "id": "J3Qn5lmK5_XJ",
        "outputId": "b2e2507d-3de6-42c6-f901-891d332e4416"
      },
      "outputs": [
        {
          "name": "stdout",
          "output_type": "stream",
          "text": [
            "안녕하세요^^\n"
          ]
        }
      ],
      "source": [
        "print('안녕하세요^^')"
      ]
    },
    {
      "cell_type": "code",
      "execution_count": 3,
      "metadata": {
        "colab": {
          "base_uri": "https://localhost:8080/"
        },
        "id": "fVaMOZtu6Lke",
        "outputId": "db66a93d-19f4-41c0-bee7-1f1005f53c1d"
      },
      "outputs": [
        {
          "name": "stdout",
          "output_type": "stream",
          "text": [
            "Collecting openai==0.28\n",
            "  Downloading openai-0.28.0-py3-none-any.whl (76 kB)\n",
            "\u001b[?25l     \u001b[90m━━━━━━━━━━━━━━━━━━━━━━━━━━━━━━━━━━━━━━━━\u001b[0m \u001b[32m0.0/76.5 kB\u001b[0m \u001b[31m?\u001b[0m eta \u001b[36m-:--:--\u001b[0m\r\u001b[2K     \u001b[91m━━━━━━━━━━━━━━━━\u001b[0m\u001b[90m╺\u001b[0m\u001b[90m━━━━━━━━━━━━━━━━━━━━━━━\u001b[0m \u001b[32m30.7/76.5 kB\u001b[0m \u001b[31m843.4 kB/s\u001b[0m eta \u001b[36m0:00:01\u001b[0m\r\u001b[2K     \u001b[90m━━━━━━━━━━━━━━━━━━━━━━━━━━━━━━━━━━━━━━━━\u001b[0m \u001b[32m76.5/76.5 kB\u001b[0m \u001b[31m984.7 kB/s\u001b[0m eta \u001b[36m0:00:00\u001b[0m\n",
            "\u001b[?25hRequirement already satisfied: requests>=2.20 in /usr/local/lib/python3.10/dist-packages (from openai==0.28) (2.31.0)\n",
            "Requirement already satisfied: tqdm in /usr/local/lib/python3.10/dist-packages (from openai==0.28) (4.66.4)\n",
            "Requirement already satisfied: aiohttp in /usr/local/lib/python3.10/dist-packages (from openai==0.28) (3.9.5)\n",
            "Requirement already satisfied: charset-normalizer<4,>=2 in /usr/local/lib/python3.10/dist-packages (from requests>=2.20->openai==0.28) (3.3.2)\n",
            "Requirement already satisfied: idna<4,>=2.5 in /usr/local/lib/python3.10/dist-packages (from requests>=2.20->openai==0.28) (3.7)\n",
            "Requirement already satisfied: urllib3<3,>=1.21.1 in /usr/local/lib/python3.10/dist-packages (from requests>=2.20->openai==0.28) (2.0.7)\n",
            "Requirement already satisfied: certifi>=2017.4.17 in /usr/local/lib/python3.10/dist-packages (from requests>=2.20->openai==0.28) (2024.2.2)\n",
            "Requirement already satisfied: aiosignal>=1.1.2 in /usr/local/lib/python3.10/dist-packages (from aiohttp->openai==0.28) (1.3.1)\n",
            "Requirement already satisfied: attrs>=17.3.0 in /usr/local/lib/python3.10/dist-packages (from aiohttp->openai==0.28) (23.2.0)\n",
            "Requirement already satisfied: frozenlist>=1.1.1 in /usr/local/lib/python3.10/dist-packages (from aiohttp->openai==0.28) (1.4.1)\n",
            "Requirement already satisfied: multidict<7.0,>=4.5 in /usr/local/lib/python3.10/dist-packages (from aiohttp->openai==0.28) (6.0.5)\n",
            "Requirement already satisfied: yarl<2.0,>=1.0 in /usr/local/lib/python3.10/dist-packages (from aiohttp->openai==0.28) (1.9.4)\n",
            "Requirement already satisfied: async-timeout<5.0,>=4.0 in /usr/local/lib/python3.10/dist-packages (from aiohttp->openai==0.28) (4.0.3)\n",
            "Installing collected packages: openai\n",
            "Successfully installed openai-0.28.0\n"
          ]
        }
      ],
      "source": [
        "!pip install openai==0.28"
      ]
    },
    {
      "cell_type": "code",
      "execution_count": 19,
      "metadata": {
        "id": "SrJH_Yxf6a5y"
      },
      "outputs": [],
      "source": [
        "import openai\n",
        "\n",
        "# openai key 입력\n",
        "OPENAI_API_KEY = 'open ai key를 입력하세요 '"
      ]
    },
    {
      "cell_type": "code",
      "execution_count": 24,
      "metadata": {
        "colab": {
          "base_uri": "https://localhost:8080/"
        },
        "id": "o1PbNuyR7BMv",
        "outputId": "06179624-9c19-4f24-db5c-da69a80cc1dd"
      },
      "outputs": [
        {
          "name": "stdout",
          "output_type": "stream",
          "text": [
            "안녕하세요! 100일 기념 선물을 고민 중이시군요. ESTP 유형은 즉흥적이고 활동적인 성격으로 알려져 있습니다. 그리고 연인인 카리나에게 선물을 고를 때는 그녀의 취향과 관심사를 고려하는 것이 중요할 것 같아요.\n",
            "\n",
            "카리나가 좋아하는 것이나 필요로 하는 것을 고려하여 선물을 선택하는 것이 좋습니다. 예를 들어, 카리나가 패션에 관심이 많다면 스타일리시한 의류나 액세서리를 선물할 수 있고, 음악을 좋아한다면 좋아하는 가수의 음반이나 콘서트 티켓을 선물할 수도 있겠죠.\n",
            "\n",
            "또한, ESTP 유형은 새로운 경험을 즐기는 편이기 때문에 함께 즐길 수 있는 활동이 담긴 선물도 좋을 수 있습니다. 예를 들어, 함께하는 쿠킹 클래스나 스포츠 이벤트 티켓, 혹은 데이트를 위한 특별한 경험을 선물하는 것도 좋은 아이디어일 것입니다.\n",
            "\n",
            "100일 기념 선물은 서로의 관계를 더욱 특별하게 만들어 줄 수 있는 기회이니, 카리나와의 소중한 추억을 만들어 줄 수 있는 선물을 선택해 보시는 것을 추천드립니다. 상대방을 생각하고 선물을 선택하는 것이 가장 중요한 포인트가 될 것입니다. 행복한 100일 기념을 보내시길 바라겠습니다!\n"
          ]
        }
      ],
      "source": [
        "\n",
        "openai.api_key = OPENAI_API_KEY\n",
        "\n",
        "model = 'gpt-3.5-turbo'\n",
        "\n",
        "query = '''\n",
        "나의 MBTI : estp\n",
        "상대방 이름 : 카리나\n",
        "관계 : 연인\n",
        "상황 : 만난 지 100일 된 상황\n",
        "질문 : 100일 기념 선물로 무엇이 좋을거 같아? 보통 어떤 거 선물하지?\n",
        "'''\n",
        "# few shot\n",
        "\n",
        "messages = [\n",
        "    {'role': 'system', 'content': '연예전문상담가'},\n",
        "    {'role': 'user', 'content': query},\n",
        "\n",
        "]\n",
        "\n",
        "try:\n",
        "    response = openai.ChatCompletion.create(\n",
        "        model = model,\n",
        "        messages=messages,\n",
        "        temperature=0\n",
        "        # 0 에 가까울 수록 일반적인 답변.\n",
        "        # 0-1 1에 가까우면 창의적 답변(할루시네이션 가능성 존재)\n",
        "    )\n",
        "    # print(response)\n",
        "    print(response.choices[0].message['content'])\n",
        "\n",
        "except Exception as e:\n",
        "    print(f'에러가 발생했어요.: {e}')"
      ]
    },
    {
      "cell_type": "markdown",
      "metadata": {
        "id": "lAy_iUiY_-V7"
      },
      "source": [
        "MBTI 입력받는 프로그램 (초창기 모델 V.0)"
      ]
    },
    {
      "cell_type": "code",
      "execution_count": 25,
      "metadata": {
        "colab": {
          "base_uri": "https://localhost:8080/",
          "height": 53
        },
        "id": "BEKWxSe4_58V",
        "outputId": "20eec1de-c6b4-4322-c2f8-f82b3dc898a5"
      },
      "outputs": [
        {
          "name": "stdout",
          "output_type": "stream",
          "text": [
            "내 MBTI: estp\n"
          ]
        },
        {
          "data": {
            "application/vnd.google.colaboratory.intrinsic+json": {
              "type": "string"
            },
            "text/plain": [
              "'ESTP'"
            ]
          },
          "execution_count": 25,
          "metadata": {},
          "output_type": "execute_result"
        }
      ],
      "source": [
        "# 사용자로부터 MBTI 관계, 상황 등 입력 받기\n",
        "\n",
        "input('내 MBTI: ').upper()  # 대문자로 일괄 변환"
      ]
    },
    {
      "cell_type": "code",
      "execution_count": 26,
      "metadata": {
        "colab": {
          "base_uri": "https://localhost:8080/"
        },
        "id": "CRx6Dq6C_5_g",
        "outputId": "935aed5e-4fed-4a59-cc8c-2a994c7b8e8f"
      },
      "outputs": [
        {
          "name": "stdout",
          "output_type": "stream",
          "text": [
            "내 MBTI: estp\n",
            "상대방 MBTI: infp\n",
            "상대방 이름:카리나 \n",
            "관계: 연인\n",
            "상황: 말싸움 한 상태임\n",
            "질문: 어떻게 용서를 구할까? \n"
          ]
        }
      ],
      "source": [
        "my_mbti = input('내 MBTI: ').upper()\n",
        "your_mbti = input('상대방 MBTI: ').upper()\n",
        "your_name =input('상대방 이름:' )\n",
        "relation = input('관계: ')\n",
        "situation = input('상황: ')\n",
        "question = input('질문: ')\n",
        "\n",
        "query = f'''\n",
        "나의 MBTI : {my_mbti}\n",
        "상대방 MBTI : {your_mbti}\n",
        "상대방 이름 : {your_name}\n",
        "관계 : {relation}\n",
        "상황 : {situation}\n",
        "질문 : {question}\n",
        "'''"
      ]
    },
    {
      "cell_type": "code",
      "execution_count": 27,
      "metadata": {
        "id": "AeMqwavA_6B-"
      },
      "outputs": [],
      "source": [
        "messages = [\n",
        "    {'role': 'system', 'content': '연예전문상담가'},\n",
        "    {'role': 'user', 'content': query},\n",
        "\n",
        "]"
      ]
    },
    {
      "cell_type": "code",
      "execution_count": 28,
      "metadata": {
        "colab": {
          "base_uri": "https://localhost:8080/"
        },
        "id": "B5NSMA7Y_6Ek",
        "outputId": "5e2b2842-8043-434e-fc3a-0a4e73cdc4dd"
      },
      "outputs": [
        {
          "name": "stdout",
          "output_type": "stream",
          "text": [
            "말싸움 한 상황에서 용서를 구하는 것은 상대방을 존중하고 관계를 회복하는데 중요한 요소입니다. ESTP 유형은 문제에 직면할 때 실제적이고 해결책을 찾는 경향이 있지만, INFP 유형은 감정적이고 깊은 이해와 연민을 바탕으로 행동하는 경향이 있습니다. \n",
            "\n",
            "먼저, 상대방의 감정을 이해하고 수용하는 것이 중요합니다. 카리나에게 진실된 마음으로 자신의 잘못을 인정하고 사과하는 것이 도움이 될 수 있습니다. 감정을 표현하고 상대방의 감정을 듣고 이해하는 것이 중요합니다. \n",
            "\n",
            "또한, 상대방의 입장에서 상황을 바라보고 이해하는 노력을 기울이는 것도 중요합니다. 어떤 부분에서 상대방이 상처를 받았는지 이해하고, 그 부분에 대해 어떤 식으로든 변화를 보이는 것이 도움이 될 것입니다.\n",
            "\n",
            "마지막으로, 용서를 구하는 것은 시간이 필요한 과정일 수 있습니다. 서서히 신뢰를 회복하고 상대방과의 관계를 다시 건설해 나가는 것이 중요합니다. 빠른 해결을 원하는 것보다는 카리나의 감정을 존중하며 서로의 입장을 이해하고 서로에게 필요한 공간을 주는 것이 중요합니다. 함께 솔직하고 열린 대화를 통해 문제를 해결하고 서로를 이해하는 노력을 기울이면서 서로에 대한 존중과 사랑을 재확인하는 것이 좋을 것입니다.\n"
          ]
        }
      ],
      "source": [
        "\n",
        "try:\n",
        "    response = openai.ChatCompletion.create(\n",
        "        model = model,\n",
        "        messages=messages,\n",
        "        temperature=0.7\n",
        "        # 0 에 가까울 수록 일반적인 답변.\n",
        "        # 0-1 1에 가까우면 창의적 답변(할루시네이션 가능성 존재)\n",
        "    )\n",
        "    # print(response)\n",
        "    print(response.choices[0].message['content'])\n",
        "\n",
        "except Exception as e:\n",
        "    print(f'에러가 발생했어요.: {e}')"
      ]
    },
    {
      "cell_type": "code",
      "execution_count": 29,
      "metadata": {
        "colab": {
          "base_uri": "https://localhost:8080/"
        },
        "id": "a4M2oNYT_6G6",
        "outputId": "babf6e80-c610-46aa-d93b-00333b5c8f2d"
      },
      "outputs": [
        {
          "name": "stdout",
          "output_type": "stream",
          "text": [
            "================================================================================\n"
          ]
        }
      ],
      "source": [
        "print('=='*40)"
      ]
    },
    {
      "cell_type": "markdown",
      "metadata": {
        "id": "SdyKPnbOBtpA"
      },
      "source": [
        "나만의 연예상담 봇_love_coach"
      ]
    },
    {
      "cell_type": "code",
      "execution_count": 32,
      "metadata": {
        "colab": {
          "base_uri": "https://localhost:8080/"
        },
        "id": "V3Gjn7_u_6Jg",
        "outputId": "9ac34998-784e-418e-f5d7-91e66c119cae"
      },
      "outputs": [
        {
          "name": "stdout",
          "output_type": "stream",
          "text": [
            "내 MBTI: estp \n",
            "상대방 MBTI: infp \n",
            "상대방 이름:카리나 \n",
            "관계: 연인\n",
            "상황: 말다툼\n",
            "질문: 화해하고 싶어. 해결방안 제시해줘 \n",
            "답변을 준비중입니다.... 잠시만 기다려 주실거죵~^^\n",
            "카리나와의 말다툼 상황이 어려운 것 같네요. ESTP와 INFP는 많은 면에서 서로 다른 성향을 가지고 있기 때문에 의견 충돌이 발생하기 쉬울 수 있어요. 하지만 이러한 차이를 이해하고 존중하는 것이 중요합니다.\n",
            "\n",
            "먼저 카리나와 대화를 통해 미움을 풀어내고 상황을 해결할 수 있도록 노력해보세요. 다음은 몇 가지 화해를 위한 제안입니다:\n",
            "\n",
            "1. 진실한 사죄: 자신의 잘못을 인정하고 사과하는 것은 중요합니다. 카리나에게 진심으로 미안하다고 전하고, 상대방의 감정을 이해하려는 태도를 보여주세요.\n",
            "\n",
            "2. 소통의 중요성: 서로의 감정과 생각을 솔직하게 표현하고 듣는 것이 중요합니다. 카리나의 입장을 듣고 이해하려고 노력해보세요.\n",
            "\n",
            "3. 공동 목표 설정: 서로가 함께 달성하고 싶은 목표를 설정하고 그것을 위해 협력하는 것은 화해를 이루는데 도움이 될 수 있습니다.\n",
            "\n",
            "4. 함께하는 즐거운 활동: 서로가 즐거운 활동을 함께 하면서 긍정적인 경험을 쌓는 것도 화해에 도움이 될 수 있습니다.\n",
            "\n",
            "5. 상호 존중: 서로의 차이를 인정하고 존중하는 태도를 가지는 것이 중요합니다. 서로를 이해하고 받아들이는 태도가 화해의 첫걸음이 될 수 있습니다.\n",
            "\n",
            "이러한 제안을 통해 카리나와의 말다툼을 해결하고 화해하는 데 도움이 되기를 바랍니다. 함께 어려운 상황을 극복하고 더 강한 연인으로 성장할 수 있길 기원합니다.\n",
            "질문: 진실한 사죄를 어떤 방식으로 해? 예를 들어줘 \n",
            "답변을 준비중이예요....\n",
            "================================================================================================================================================================\n",
            "진실한 사죄를 하는 방법은 상대방의 감정을 존중하고 진실성을 가지고 표현하는 것이 중요합니다. 아래는 진실한 사죄를 하는 예시입니다:\n",
            "\n",
            "\"카리나, 나는 너와의 말다툼에서 너를 상처주었고, 그것이 내 잘못이었어. 정말 미안해. 내가 이해하고 싶다는 의지를 가지고 있어. 내가 너를 상처주었던 그 행동은 잘못이었고, 그것을 반성하고 싶어. 더 이상 그런 상황이 반복되지 않도록 노력할 테니, 우리 간의 소통과 이해가 더 중요하다는 것을 알게 되었어. 너를 소중히 생각하고 있고, 우리의 관계를 소중히 여기고 싶어. 다시 우리 사이가 화기애애하고 행복한 관계가 되도록 함께 노력하고 싶어.\"\n",
            "\n",
            "이러한 방식으로 진실하고 솔직한 감정을 전달하면, 상대방이 당신의 진심을 느끼고 상황을 극복하는데 도움이 될 수 있습니다. 상대방의 입장을 이해하고 존중하는 태도를 갖고 진실한 사죄를 표현해보세요.\n",
            "더 질문하실건가요?(y/n): n\n",
            "종료합니다\n"
          ]
        }
      ],
      "source": [
        "my_mbti = input('내 MBTI: ').upper()\n",
        "your_mbti = input('상대방 MBTI: ').upper()\n",
        "your_name =input('상대방 이름:' )\n",
        "relation = input('관계: ')\n",
        "situation = input('상황: ')\n",
        "question = input('질문: ')\n",
        "\n",
        "query = f'''\n",
        "나의 MBTI : {my_mbti}\n",
        "상대방 MBTI : {your_mbti}\n",
        "상대방 이름 : {your_name}\n",
        "관계 : {relation}\n",
        "상황 : {situation}\n",
        "질문 : {question}\n",
        "'''\n",
        "\n",
        "messages = [\n",
        "    {'role': 'system', 'content': '연예전문상담가'},\n",
        "    {'role': 'user', 'content': query},\n",
        "\n",
        "]\n",
        "\n",
        "print('답변을 준비중입니다.... 잠시만 기다려 주실거죵~^^')\n",
        "\n",
        "response = openai.ChatCompletion.create(\n",
        "        model = model,\n",
        "        messages=messages,\n",
        "        temperature=0.7\n",
        "        # 0 에 가까울 수록 일반적인 답변.\n",
        "        # 0-1 1에 가까우면 창의적 답변(할루시네이션 가능성 존재)\n",
        "    )\n",
        "\n",
        "answer = response.choices[0].message['content']\n",
        "messages.append({'role': 'assistant', 'content':answer})\n",
        "print(answer)\n",
        "\n",
        "# 질문이 끊기지 않고 계속 하도록 while 사용 (multi-turn 구현)\n",
        "\n",
        "while True:\n",
        "    # 사용자로부터 질문을 받습니다.\n",
        "    question = input('질문: ')\n",
        "    query = f'Q: {question}'\n",
        "    # 질문을 메시지 배열에 추가합니다.\n",
        "    messages.append({'role':'user', 'content':query})\n",
        "    # chatGPT API 호출 >> 응답 받기\n",
        "    print('답변을 준비중이예요....')\n",
        "    response = openai.ChatCompletion.create(\n",
        "        model = model,\n",
        "        messages=messages,\n",
        "        temperature=0.7\n",
        "        # 0 에 가까울 수록 일반적인 답변.\n",
        "        # 0-1 1에 가까우면 창의적 답변(할루시네이션 가능성 존재)\n",
        "    )\n",
        "    answer = response.choices[0].message['content']\n",
        "    # 응답을 출력합니다\n",
        "    print('=='*80)\n",
        "    messages.append({'role': 'assistant', 'content':answer})\n",
        "    print(answer)\n",
        "    # 사용자에게 계속 질문할 건지 확인하기\n",
        "\n",
        "    while True:\n",
        "        q = input('더 질문하실건가요?(y/n): ').lower() #입력된 영어문자를 전부 소문자로 변환\n",
        "        if q in ['y','n','ㅛ','ㅜ']:\n",
        "            break # 정지조건\n",
        "        else:\n",
        "            print('유효한 입력이 아닙니다. y나 n 중 선택해서 다시 입력해 주세요.')\n",
        "\n",
        "    if q in ['n','ㅜ']:\n",
        "        print('종료합니다')\n",
        "        break"
      ]
    },
    {
      "cell_type": "code",
      "execution_count": null,
      "metadata": {
        "id": "oeGiQvB1_6ME"
      },
      "outputs": [],
      "source": []
    }
  ],
  "metadata": {
    "colab": {
      "provenance": []
    },
    "kernelspec": {
      "display_name": "Python 3",
      "name": "python3"
    },
    "language_info": {
      "name": "python"
    }
  },
  "nbformat": 4,
  "nbformat_minor": 0
}
