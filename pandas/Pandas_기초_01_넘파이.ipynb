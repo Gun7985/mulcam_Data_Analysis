{
 "cells": [
  {
   "cell_type": "code",
   "execution_count": 1,
   "metadata": {},
   "outputs": [
    {
     "data": {
      "text/plain": [
       "[0, 1, 2, 3, 4, 5, 6, 7, 8, 9]"
      ]
     },
     "execution_count": 1,
     "metadata": {},
     "output_type": "execute_result"
    }
   ],
   "source": [
    "# 배열 만들기\n",
    "\n",
    "list(range(10))"
   ]
  },
  {
   "cell_type": "code",
   "execution_count": 2,
   "metadata": {},
   "outputs": [
    {
     "data": {
      "text/plain": [
       "array([1, 2, 3, 4, 5])"
      ]
     },
     "execution_count": 2,
     "metadata": {},
     "output_type": "execute_result"
    }
   ],
   "source": [
    "import numpy as np\n",
    "\n",
    "np.array([1,2,3,4,5])"
   ]
  },
  {
   "cell_type": "code",
   "execution_count": 3,
   "metadata": {},
   "outputs": [
    {
     "name": "stdout",
     "output_type": "stream",
     "text": [
      "[3.  1.4 2.  3.  4.5]\n"
     ]
    }
   ],
   "source": [
    "print(np.array([3,1.4,2,3,4.5]))\n",
    "\n",
    "# numpy array는 단일 데이터 타입\n",
    "# 정수, 실수 혼용 >> 실수로 변경됨"
   ]
  },
  {
   "cell_type": "code",
   "execution_count": 4,
   "metadata": {},
   "outputs": [
    {
     "data": {
      "text/plain": [
       "array([[1, 2],\n",
       "       [3, 4]])"
      ]
     },
     "execution_count": 4,
     "metadata": {},
     "output_type": "execute_result"
    }
   ],
   "source": [
    "np.array([[1,2],[3,4]])"
   ]
  },
  {
   "cell_type": "code",
   "execution_count": 11,
   "metadata": {},
   "outputs": [
    {
     "name": "stdout",
     "output_type": "stream",
     "text": [
      "[1 2 3 4]\n",
      "\n",
      "[1. 2. 3. 4.]\n",
      "\n",
      "[1. 2. 3. 4.]\n",
      "float64\n",
      "[1 2 3 4]\n"
     ]
    }
   ],
   "source": [
    "print(np.array([1,2,3,4]))\n",
    "print()\n",
    "print(np.array([1,2,3,4], dtype=float))\n",
    "# dtype 옵션 : data type 명시\n",
    "\n",
    "print()\n",
    "arr = np.array([1,2,3,4], dtype=float)\n",
    "print(arr)\n",
    "print(arr.dtype)\n",
    "\n",
    "# astype() : 데이터 타입 변경\n",
    "print(arr.astype(int))"
   ]
  },
  {
   "cell_type": "code",
   "execution_count": 12,
   "metadata": {},
   "outputs": [
    {
     "data": {
      "text/plain": [
       "array([0, 0, 0, 0, 0, 0, 0, 0, 0, 0])"
      ]
     },
     "execution_count": 12,
     "metadata": {},
     "output_type": "execute_result"
    }
   ],
   "source": [
    "# np.zeros()\n",
    "np.zeros(10,dtype=int)"
   ]
  },
  {
   "cell_type": "code",
   "execution_count": 13,
   "metadata": {},
   "outputs": [
    {
     "data": {
      "text/plain": [
       "array([[1., 1., 1., 1., 1.],\n",
       "       [1., 1., 1., 1., 1.],\n",
       "       [1., 1., 1., 1., 1.]])"
      ]
     },
     "execution_count": 13,
     "metadata": {},
     "output_type": "execute_result"
    }
   ],
   "source": [
    "# np.ones()\n",
    "np.ones((3,5),dtype=float)"
   ]
  },
  {
   "cell_type": "code",
   "execution_count": 14,
   "metadata": {},
   "outputs": [
    {
     "data": {
      "text/plain": [
       "array([ 0,  2,  4,  6,  8, 10, 12, 14, 16, 18])"
      ]
     },
     "execution_count": 14,
     "metadata": {},
     "output_type": "execute_result"
    }
   ],
   "source": [
    "# np.arange(start, stop, step)\n",
    "np.arange(0,20,2)"
   ]
  },
  {
   "cell_type": "code",
   "execution_count": 15,
   "metadata": {},
   "outputs": [
    {
     "data": {
      "text/plain": [
       "array([0.  , 0.25, 0.5 , 0.75, 1.  ])"
      ]
     },
     "execution_count": 15,
     "metadata": {},
     "output_type": "execute_result"
    }
   ],
   "source": [
    "# np.linspace() : n 빵\n",
    "np.linspace(0,1,5)"
   ]
  },
  {
   "cell_type": "code",
   "execution_count": 16,
   "metadata": {},
   "outputs": [
    {
     "data": {
      "text/plain": [
       "array([[0.73280117, 0.31911525],\n",
       "       [0.3405253 , 0.56986182]])"
      ]
     },
     "execution_count": 16,
     "metadata": {},
     "output_type": "execute_result"
    }
   ],
   "source": [
    "# 난수 활용, 배열 만들기\n",
    "\n",
    "np.random.random((2,2))\n",
    "# 0~1 사이 균일 분포 난수 생성\n",
    "# (2,2) : size >> 튜플형태로 매개변수로 받아서 난수 생성"
   ]
  },
  {
   "cell_type": "code",
   "execution_count": 19,
   "metadata": {},
   "outputs": [
    {
     "data": {
      "text/plain": [
       "array([[0.28099367, 0.58318337],\n",
       "       [0.17117656, 0.40037682]])"
      ]
     },
     "execution_count": 19,
     "metadata": {},
     "output_type": "execute_result"
    }
   ],
   "source": [
    "# 도와주세요.\n",
    "\n",
    "# np.random.random이 np.random.rand 하고 같은건가요?\n",
    "\n",
    "np.random.rand(2,2)\n",
    "# # 0~1 사이 균일 분포 난수 생성\n",
    "# 직접 차원(2,2) 인수를 넣어줌\n",
    "# rand를 더 많이 사용함"
   ]
  },
  {
   "cell_type": "code",
   "execution_count": 23,
   "metadata": {},
   "outputs": [
    {
     "data": {
      "text/plain": [
       "array([[ 0.54522641, -0.23859707],\n",
       "       [-1.39747449, -0.09785762]])"
      ]
     },
     "execution_count": 23,
     "metadata": {},
     "output_type": "execute_result"
    }
   ],
   "source": [
    "# normal(평균, 표준편차, 매개변수(튜플))\n",
    "# 정규분포 형태, 매개변수를 튜플로 받아서 난수 생성\n",
    "np.random.normal(0,1,(2,2))\n"
   ]
  },
  {
   "cell_type": "code",
   "execution_count": 24,
   "metadata": {},
   "outputs": [
    {
     "data": {
      "text/plain": [
       "array([[ 0.03969491,  1.31497992],\n",
       "       [-1.58690691,  0.77920113]])"
      ]
     },
     "execution_count": 24,
     "metadata": {},
     "output_type": "execute_result"
    }
   ],
   "source": [
    "# randn()\n",
    "np.random.randn(2,2)\n",
    "# 2*2 크기의 배열을 직접 생성"
   ]
  },
  {
   "cell_type": "code",
   "execution_count": 26,
   "metadata": {},
   "outputs": [
    {
     "data": {
      "text/plain": [
       "array([[9, 5],\n",
       "       [1, 1]])"
      ]
     },
     "execution_count": 26,
     "metadata": {},
     "output_type": "execute_result"
    }
   ],
   "source": [
    "np.random.randint(0,10,(2,2))\n",
    "# 0 에서부터 9(n-1) 까지 숫자 범위에서 \n",
    "# 정수로 이루어진 (2,2) 행렬 생성"
   ]
  },
  {
   "cell_type": "code",
   "execution_count": 28,
   "metadata": {},
   "outputs": [
    {
     "data": {
      "text/plain": [
       "array([[0, 9, 6, 2],\n",
       "       [8, 1, 8, 1],\n",
       "       [5, 5, 5, 0]])"
      ]
     },
     "execution_count": 28,
     "metadata": {},
     "output_type": "execute_result"
    }
   ],
   "source": [
    "# 배열의 기초\n",
    "np.random.randint(10, size=(3,4))\n",
    "# 10 : 최댓값, 명시 안하면 최소값 0"
   ]
  },
  {
   "cell_type": "code",
   "execution_count": 32,
   "metadata": {},
   "outputs": [
    {
     "name": "stdout",
     "output_type": "stream",
     "text": [
      "2\n",
      "(3, 4)\n",
      "12\n",
      "int32\n"
     ]
    }
   ],
   "source": [
    "x = np.random.randint(10, size=(3,4))\n",
    "\n",
    "print(x.ndim) # 2 >> 차원\n",
    "print(x.shape) # (3,4) 행렬 (형태)\n",
    "print(x.size) # 12 >> 크기(원소의 개수)\n",
    "print(x.dtype) # int32 (정수) 데이터 타입"
   ]
  },
  {
   "cell_type": "code",
   "execution_count": 33,
   "metadata": {},
   "outputs": [
    {
     "data": {
      "text/plain": [
       "array([0, 1, 2, 3, 4, 5, 6])"
      ]
     },
     "execution_count": 33,
     "metadata": {},
     "output_type": "execute_result"
    }
   ],
   "source": [
    "# indexing 과 slicing\n",
    "\n",
    "np.arange(7)"
   ]
  },
  {
   "cell_type": "code",
   "execution_count": 35,
   "metadata": {},
   "outputs": [
    {
     "name": "stdout",
     "output_type": "stream",
     "text": [
      "3\n",
      "4\n"
     ]
    }
   ],
   "source": [
    "# indexing\n",
    "\n",
    "a = np.arange(7)\n",
    "\n",
    "print(a[3])\n",
    "print(a[-3])"
   ]
  },
  {
   "cell_type": "code",
   "execution_count": 36,
   "metadata": {},
   "outputs": [
    {
     "name": "stdout",
     "output_type": "stream",
     "text": [
      "[10  1  2  3  4  5  6]\n"
     ]
    }
   ],
   "source": [
    "a[0] = 10\n",
    "print(a)"
   ]
  },
  {
   "cell_type": "code",
   "execution_count": 42,
   "metadata": {},
   "outputs": [
    {
     "name": "stdout",
     "output_type": "stream",
     "text": [
      "[10  1  2  3  4  5  6]\n",
      "\n",
      "[1 2 3]\n",
      "\n",
      "[1 2 3 4 5 6]\n",
      "\n",
      "[10  2  4  6]\n",
      "[ 6  5  4  3  2  1 10]\n"
     ]
    }
   ],
   "source": [
    "# slicing\n",
    "\n",
    "print(a)\n",
    "print()\n",
    "print(a[1:4])\n",
    "print()\n",
    "print(a[1:])\n",
    "print()\n",
    "print(a[::2]) # interval이 2칸씩\n",
    "print(a[::-1]) # 역순 (***)"
   ]
  },
  {
   "cell_type": "code",
   "execution_count": 51,
   "metadata": {},
   "outputs": [
    {
     "name": "stdout",
     "output_type": "stream",
     "text": [
      "[0 1 2 3 4 5 6 7]\n",
      "\n",
      "(8,)\n",
      "\n",
      "[[0 1 2 3]\n",
      " [4 5 6 7]]\n",
      "(2, 4)\n"
     ]
    }
   ],
   "source": [
    "# reshape() : 형태 변경 (****)\n",
    "\n",
    "x = np.arange(8)\n",
    "print(x)\n",
    "print()\n",
    "\n",
    "print(x.shape) # 1차원 (8개 원소)\n",
    "print()\n",
    "\n",
    "x2 = x.reshape(2,4) # 2차원 (2,4) 행렬로 변환\n",
    "print(x2)\n",
    "print(x2.shape)"
   ]
  },
  {
   "cell_type": "code",
   "execution_count": 55,
   "metadata": {},
   "outputs": [
    {
     "name": "stdout",
     "output_type": "stream",
     "text": [
      "[0 1 2]\n",
      "\n",
      "[3 4 5]\n",
      "\n"
     ]
    },
    {
     "data": {
      "text/plain": [
       "array([0, 1, 2, 3, 4, 5])"
      ]
     },
     "execution_count": 55,
     "metadata": {},
     "output_type": "execute_result"
    }
   ],
   "source": [
    "# 이어 붙이고 나누기 작업\n",
    "\n",
    "# 이어 붙이기 >> concatenate : array 이어 붙임\n",
    "\n",
    "x1 = np.array([0,1,2])\n",
    "x2 = np.array([3,4,5])\n",
    "\n",
    "print(x1)\n",
    "print()\n",
    "print(x2)\n",
    "print()\n",
    "\n",
    "np.concatenate([x1,x2])"
   ]
  },
  {
   "cell_type": "code",
   "execution_count": 61,
   "metadata": {},
   "outputs": [
    {
     "name": "stdout",
     "output_type": "stream",
     "text": [
      "[[0 1]\n",
      " [2 3]]\n",
      "\n",
      "[[0 1]\n",
      " [2 3]\n",
      " [0 1]\n",
      " [2 3]]\n",
      "\n",
      "[[0 1]\n",
      " [2 3]\n",
      " [0 1]\n",
      " [2 3]]\n",
      "\n",
      "[[0 1 0 1]\n",
      " [2 3 2 3]]\n"
     ]
    }
   ],
   "source": [
    "# concatenate >> axis 축 기준 이어 붙이기\n",
    "\n",
    "m = np.arange(4).reshape(2,2)\n",
    "\n",
    "print(m)\n",
    "print()\n",
    "print(np.concatenate([m,m]))\n",
    "print()\n",
    "print(np.concatenate([m,m],axis=0))\n",
    "# axis=0 (defualt, 설정된 기본값)\n",
    "print()\n",
    "print(np.concatenate([m,m],axis=1))"
   ]
  },
  {
   "cell_type": "code",
   "execution_count": 65,
   "metadata": {},
   "outputs": [
    {
     "name": "stdout",
     "output_type": "stream",
     "text": [
      "[[ 0  1  2  3]\n",
      " [ 4  5  6  7]\n",
      " [ 8  9 10 11]\n",
      " [12 13 14 15]]\n"
     ]
    }
   ],
   "source": [
    "#  나누기 split()\n",
    "np.arange(16).reshape(4,4)\n",
    "\n",
    "m = np.arange(16).reshape(4,4)\n",
    "print(m)"
   ]
  },
  {
   "cell_type": "code",
   "execution_count": 66,
   "metadata": {},
   "outputs": [
    {
     "name": "stdout",
     "output_type": "stream",
     "text": [
      "[array([[ 0,  1,  2,  3],\n",
      "       [ 4,  5,  6,  7],\n",
      "       [ 8,  9, 10, 11]]), array([[12, 13, 14, 15]])]\n"
     ]
    }
   ],
   "source": [
    "print(np.split(m, [3], axis=0))"
   ]
  },
  {
   "cell_type": "code",
   "execution_count": 68,
   "metadata": {},
   "outputs": [
    {
     "name": "stdout",
     "output_type": "stream",
     "text": [
      "[[ 0  1  2  3]\n",
      " [ 4  5  6  7]\n",
      " [ 8  9 10 11]]\n",
      "\n",
      "[[12 13 14 15]]\n"
     ]
    }
   ],
   "source": [
    "m1, m2 = np.split(m, [3], axis=0)\n",
    "\n",
    "print(m1)\n",
    "print()\n",
    "print(m2)"
   ]
  },
  {
   "cell_type": "code",
   "execution_count": 70,
   "metadata": {},
   "outputs": [
    {
     "name": "stdout",
     "output_type": "stream",
     "text": [
      "[array([[ 0,  1,  2],\n",
      "       [ 4,  5,  6],\n",
      "       [ 8,  9, 10],\n",
      "       [12, 13, 14]]), array([[ 3],\n",
      "       [ 7],\n",
      "       [11],\n",
      "       [15]])]\n"
     ]
    }
   ],
   "source": [
    "print(np.split(m, [3], axis=1))"
   ]
  },
  {
   "cell_type": "code",
   "execution_count": 69,
   "metadata": {},
   "outputs": [
    {
     "name": "stdout",
     "output_type": "stream",
     "text": [
      "[[ 0  1  2]\n",
      " [ 4  5  6]\n",
      " [ 8  9 10]\n",
      " [12 13 14]]\n",
      "\n",
      "[[ 3]\n",
      " [ 7]\n",
      " [11]\n",
      " [15]]\n"
     ]
    }
   ],
   "source": [
    "m3, m4 = np.split(m, [3], axis=1)\n",
    "\n",
    "print(m3)\n",
    "print()\n",
    "print(m4)"
   ]
  },
  {
   "cell_type": "markdown",
   "metadata": {},
   "source": [
    "넘파이 연산"
   ]
  },
  {
   "cell_type": "code",
   "execution_count": 78,
   "metadata": {},
   "outputs": [
    {
     "name": "stdout",
     "output_type": "stream",
     "text": [
      "[6 2 7 9 3]\n",
      "\n",
      "[11.  7. 12. 14.  8.]\n"
     ]
    }
   ],
   "source": [
    "# array 의 모든 원소에 5를 더하는 함수 생성\n",
    "\n",
    "import numpy as np \n",
    "\n",
    "def 더하기_5(values):\n",
    "    output = np.empty(len(values)) \n",
    "    \n",
    "    for i in range(len(values)):\n",
    "        output[i] = values[i] + 5\n",
    "    return output\n",
    "\n",
    "values = np.random.randint(1, 10, size=5) \n",
    "\n",
    "print(values)\n",
    "print()\n",
    "print(더하기_5(values))\n"
   ]
  },
  {
   "cell_type": "code",
   "execution_count": 72,
   "metadata": {},
   "outputs": [
    {
     "data": {
      "text/plain": [
       "array([0.  , 0.25, 0.5 , 0.75, 1.  ])"
      ]
     },
     "execution_count": 72,
     "metadata": {},
     "output_type": "execute_result"
    }
   ],
   "source": [
    "np.empty(5)\n",
    "# 5개의 원소를 가진 1차원 배열 생성 \n",
    "# 초기화는 되어 있지 않음\n",
    "# >> 여기에 출력되는 값은 메모리에 이미 존재한 임의의 값으로 배열 채움"
   ]
  },
  {
   "cell_type": "code",
   "execution_count": 79,
   "metadata": {},
   "outputs": [
    {
     "data": {
      "text/plain": [
       "array([13.,  9.,  7., ..., 13.,  7., 12.])"
      ]
     },
     "execution_count": 79,
     "metadata": {},
     "output_type": "execute_result"
    }
   ],
   "source": [
    "# loop vs numpy\n",
    "\n",
    "big_arr = np.random.randint(1,10,size=100000)\n",
    "\n",
    "더하기_5(big_arr)"
   ]
  },
  {
   "cell_type": "code",
   "execution_count": 80,
   "metadata": {},
   "outputs": [
    {
     "data": {
      "text/plain": [
       "array([13,  9,  7, ..., 13,  7, 12])"
      ]
     },
     "execution_count": 80,
     "metadata": {},
     "output_type": "execute_result"
    }
   ],
   "source": [
    "big_arr + 5 # rodacasting 되어 계산 >> 헐. 훨씬 빠르네"
   ]
  },
  {
   "cell_type": "code",
   "execution_count": 81,
   "metadata": {},
   "outputs": [
    {
     "data": {
      "text/plain": [
       "array([0, 1, 2, 3])"
      ]
     },
     "execution_count": 81,
     "metadata": {},
     "output_type": "execute_result"
    }
   ],
   "source": [
    "# 기본 연산\n",
    "\n",
    "np.arange(4)"
   ]
  },
  {
   "cell_type": "code",
   "execution_count": 82,
   "metadata": {},
   "outputs": [
    {
     "name": "stdout",
     "output_type": "stream",
     "text": [
      "[5 6 7 8]\n",
      "[-5 -4 -3 -2]\n",
      "[ 0  5 10 15]\n",
      "[0.  0.2 0.4 0.6]\n"
     ]
    }
   ],
   "source": [
    "x = np.arange(4)\n",
    "\n",
    "print(x+5)\n",
    "print(x-5)\n",
    "print(x*5)\n",
    "print(x/5)"
   ]
  },
  {
   "cell_type": "code",
   "execution_count": 85,
   "metadata": {},
   "outputs": [
    {
     "name": "stdout",
     "output_type": "stream",
     "text": [
      "[[ 2  3]\n",
      " [10  7]]\n",
      "\n",
      "[[-2 -1]\n",
      " [-6 -1]]\n"
     ]
    }
   ],
   "source": [
    "# 행렬 간 연산\n",
    "\n",
    "x = np.arange(4).reshape((2,2))\n",
    "\n",
    "y = np.random.randint(10,size=(2,2))\n",
    "\n",
    "print(x+y)\n",
    "print()\n",
    "print(x-y)"
   ]
  },
  {
   "cell_type": "code",
   "execution_count": 87,
   "metadata": {},
   "outputs": [
    {
     "name": "stdout",
     "output_type": "stream",
     "text": [
      "[[0 1]\n",
      " [2 3]]\n",
      "\n",
      "[[5 6]\n",
      " [7 8]]\n"
     ]
    }
   ],
   "source": [
    "# 브로드캐스팅(BroadCasting)\n",
    "\n",
    "print(x)\n",
    "print()\n",
    "print(x+5)"
   ]
  },
  {
   "cell_type": "code",
   "execution_count": 88,
   "metadata": {},
   "outputs": [
    {
     "data": {
      "text/plain": [
       "array([[0, 1, 2, 3],\n",
       "       [4, 5, 6, 7]])"
      ]
     },
     "execution_count": 88,
     "metadata": {},
     "output_type": "execute_result"
    }
   ],
   "source": [
    "# 집계함수\n",
    "\n",
    "np.arange(8).reshape((2,4))"
   ]
  },
  {
   "cell_type": "code",
   "execution_count": 89,
   "metadata": {},
   "outputs": [
    {
     "name": "stdout",
     "output_type": "stream",
     "text": [
      "28\n",
      "0\n",
      "7\n",
      "3.5\n"
     ]
    }
   ],
   "source": [
    "x = np.arange(8).reshape((2,4))\n",
    " \n",
    "print(np.sum(x))\n",
    "print(np.min(x))\n",
    "print(np.max(x))\n",
    "print(np.mean(x))"
   ]
  },
  {
   "cell_type": "code",
   "execution_count": 92,
   "metadata": {},
   "outputs": [
    {
     "name": "stdout",
     "output_type": "stream",
     "text": [
      "[[0 1 2 3]\n",
      " [4 5 6 7]]\n",
      "\n",
      "[ 4  6  8 10]\n",
      "\n",
      "[ 6 22]\n"
     ]
    }
   ],
   "source": [
    "# axis 사용, 집계하기\n",
    "\n",
    "print(x)\n",
    "print()\n",
    "print(np.sum(x, axis=0))\n",
    "print()\n",
    "print(np.sum(x, axis=1))"
   ]
  },
  {
   "cell_type": "code",
   "execution_count": 93,
   "metadata": {},
   "outputs": [
    {
     "data": {
      "text/plain": [
       "array([0, 1, 2, 3, 4])"
      ]
     },
     "execution_count": 93,
     "metadata": {},
     "output_type": "execute_result"
    }
   ],
   "source": [
    "# 마스킹(masking) 연산 (조건 연산자 >> True, False)\n",
    "\n",
    "np.arange(5)"
   ]
  },
  {
   "cell_type": "code",
   "execution_count": 94,
   "metadata": {},
   "outputs": [
    {
     "name": "stdout",
     "output_type": "stream",
     "text": [
      "[ True  True  True False False]\n",
      "\n",
      "[False False False False False]\n"
     ]
    }
   ],
   "source": [
    "x = np.arange(5)\n",
    "\n",
    "print(x<3)\n",
    "print()\n",
    "print(x>5)"
   ]
  },
  {
   "cell_type": "code",
   "execution_count": 95,
   "metadata": {},
   "outputs": [
    {
     "data": {
      "text/plain": [
       "array([0, 1, 2])"
      ]
     },
     "execution_count": 95,
     "metadata": {},
     "output_type": "execute_result"
    }
   ],
   "source": [
    "x[x<3]"
   ]
  },
  {
   "cell_type": "code",
   "execution_count": 96,
   "metadata": {},
   "outputs": [
    {
     "data": {
      "text/plain": [
       "array([0, 1, 2])"
      ]
     },
     "execution_count": 96,
     "metadata": {},
     "output_type": "execute_result"
    }
   ],
   "source": [
    "condition = (x<3)\n",
    "\n",
    "x[condition]"
   ]
  },
  {
   "cell_type": "code",
   "execution_count": null,
   "metadata": {},
   "outputs": [],
   "source": []
  }
 ],
 "metadata": {
  "kernelspec": {
   "display_name": "base",
   "language": "python",
   "name": "python3"
  },
  "language_info": {
   "codemirror_mode": {
    "name": "ipython",
    "version": 3
   },
   "file_extension": ".py",
   "mimetype": "text/x-python",
   "name": "python",
   "nbconvert_exporter": "python",
   "pygments_lexer": "ipython3",
   "version": "3.11.7"
  }
 },
 "nbformat": 4,
 "nbformat_minor": 2
}
