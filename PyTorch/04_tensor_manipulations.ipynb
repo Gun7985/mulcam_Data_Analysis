{
 "cells": [
  {
   "cell_type": "markdown",
   "metadata": {},
   "source": [
    "# PyTorch Tensor Manipulations"
   ]
  },
  {
   "cell_type": "code",
   "execution_count": 1,
   "metadata": {},
   "outputs": [],
   "source": [
    "import torch"
   ]
  },
  {
   "cell_type": "markdown",
   "metadata": {},
   "source": [
    "## Tensor Shaping\n",
    "\n",
    "### reshape: Change Tensor Shape"
   ]
  },
  {
   "cell_type": "code",
   "execution_count": 3,
   "metadata": {},
   "outputs": [
    {
     "name": "stdout",
     "output_type": "stream",
     "text": [
      "tensor([[[ 1.,  2.],\n",
      "         [ 3.,  4.]],\n",
      "\n",
      "        [[ 5.,  6.],\n",
      "         [ 7.,  8.]],\n",
      "\n",
      "        [[ 9., 10.],\n",
      "         [11., 12.]]])\n",
      "torch.Size([3, 2, 2])\n"
     ]
    }
   ],
   "source": [
    "x = torch.FloatTensor([[[1, 2],\n",
    "                        [3, 4]],\n",
    "                       [[5, 6],\n",
    "                        [7, 8]],\n",
    "                       [[9, 10],\n",
    "                        [11, 12]]])\n",
    "\n",
    "print(x)\n",
    "print(x.size())"
   ]
  },
  {
   "cell_type": "code",
   "execution_count": 4,
   "metadata": {},
   "outputs": [
    {
     "name": "stdout",
     "output_type": "stream",
     "text": [
      "tensor([ 1.,  2.,  3.,  4.,  5.,  6.,  7.,  8.,  9., 10., 11., 12.])\n",
      "tensor([ 1.,  2.,  3.,  4.,  5.,  6.,  7.,  8.,  9., 10., 11., 12.])\n"
     ]
    }
   ],
   "source": [
    "print(x.reshape(12)) \n",
    "# 12 = 3 * 2 * 2 >> 1차원 \n",
    "print(x.reshape(-1))"
   ]
  },
  {
   "cell_type": "code",
   "execution_count": 5,
   "metadata": {},
   "outputs": [
    {
     "name": "stdout",
     "output_type": "stream",
     "text": [
      "tensor([[ 1.,  2.,  3.,  4.],\n",
      "        [ 5.,  6.,  7.,  8.],\n",
      "        [ 9., 10., 11., 12.]])\n",
      "tensor([[ 1.,  2.,  3.,  4.],\n",
      "        [ 5.,  6.,  7.,  8.],\n",
      "        [ 9., 10., 11., 12.]])\n"
     ]
    }
   ],
   "source": [
    "print(x.reshape(3, 4)) \n",
    "# 3 * 4 = (3 * 2 * 2) >> 2차원 \n",
    "print(x.reshape(3, -1))"
   ]
  },
  {
   "cell_type": "code",
   "execution_count": 6,
   "metadata": {},
   "outputs": [
    {
     "name": "stdout",
     "output_type": "stream",
     "text": [
      "tensor([[[ 1.,  2.,  3.,  4.]],\n",
      "\n",
      "        [[ 5.,  6.,  7.,  8.]],\n",
      "\n",
      "        [[ 9., 10., 11., 12.]]])\n",
      "tensor([[[ 1.,  2.,  3.,  4.]],\n",
      "\n",
      "        [[ 5.,  6.,  7.,  8.]],\n",
      "\n",
      "        [[ 9., 10., 11., 12.]]])\n"
     ]
    }
   ],
   "source": [
    "print(x.reshape(3, 1, 4))\n",
    "# 12 = 3*1*4 >> 3차원 \n",
    "print(x.reshape(-1, 1, 4))"
   ]
  },
  {
   "cell_type": "code",
   "execution_count": 6,
   "metadata": {
    "scrolled": true
   },
   "outputs": [
    {
     "name": "stdout",
     "output_type": "stream",
     "text": [
      "tensor([[[[ 1.],\n",
      "          [ 2.]],\n",
      "\n",
      "         [[ 3.],\n",
      "          [ 4.]]],\n",
      "\n",
      "\n",
      "        [[[ 5.],\n",
      "          [ 6.]],\n",
      "\n",
      "         [[ 7.],\n",
      "          [ 8.]]],\n",
      "\n",
      "\n",
      "        [[[ 9.],\n",
      "          [10.]],\n",
      "\n",
      "         [[11.],\n",
      "          [12.]]]])\n"
     ]
    }
   ],
   "source": [
    "print(x.reshape(3, 2, 2, 1))\n",
    "# 12 = 3*2*2*1 >> 4차원 "
   ]
  },
  {
   "cell_type": "markdown",
   "metadata": {},
   "source": [
    "You can use 'view()' instead of 'reshape()' in some cases.\n",
    "\n",
    "- https://pytorch.org/docs/stable/tensor_view.html\n",
    "- https://pytorch.org/docs/stable/tensors.html?highlight=view#torch.Tensor.view"
   ]
  },
  {
   "cell_type": "markdown",
   "metadata": {},
   "source": [
    "### squeeze: Remove dimension which has only one element."
   ]
  },
  {
   "cell_type": "code",
   "execution_count": 7,
   "metadata": {},
   "outputs": [
    {
     "name": "stdout",
     "output_type": "stream",
     "text": [
      "tensor([[[1., 2.],\n",
      "         [3., 4.]]])\n",
      "torch.Size([1, 2, 2])\n"
     ]
    }
   ],
   "source": [
    "x = torch.FloatTensor([[[1, 2],\n",
    "                        [3, 4]]])\n",
    "\n",
    "print(x)\n",
    "print(x.size())"
   ]
  },
  {
   "cell_type": "markdown",
   "metadata": {},
   "source": [
    "Remove any dimension which has only one element."
   ]
  },
  {
   "cell_type": "code",
   "execution_count": 8,
   "metadata": {},
   "outputs": [
    {
     "name": "stdout",
     "output_type": "stream",
     "text": [
      "tensor([[1., 2.],\n",
      "        [3., 4.]])\n",
      "torch.Size([2, 2])\n"
     ]
    }
   ],
   "source": [
    "# 1인 차원 제거 \n",
    "print(x.squeeze())\n",
    "print(x.squeeze().size())"
   ]
  },
  {
   "cell_type": "markdown",
   "metadata": {},
   "source": [
    "Remove certain dimension, if it has only one element.\n",
    "If it is not, there would be no change."
   ]
  },
  {
   "cell_type": "code",
   "execution_count": 10,
   "metadata": {
    "scrolled": true
   },
   "outputs": [
    {
     "name": "stdout",
     "output_type": "stream",
     "text": [
      "tensor([[[1., 2.],\n",
      "         [3., 4.]]])\n",
      "torch.Size([2, 2])\n",
      "torch.Size([1, 2, 2])\n"
     ]
    }
   ],
   "source": [
    "print(x)\n",
    "print(x.squeeze(0).size())\n",
    "# 0번 index '1' 존재 >> squeeze 가능 \n",
    "print(x.squeeze(1).size())\n",
    "# 1번 index '1' 존재 하지 않음 >> squeeze 불가능"
   ]
  },
  {
   "cell_type": "markdown",
   "metadata": {},
   "source": [
    "### unsqueeze: Insert dimension at certain index."
   ]
  },
  {
   "cell_type": "code",
   "execution_count": 11,
   "metadata": {},
   "outputs": [
    {
     "name": "stdout",
     "output_type": "stream",
     "text": [
      "tensor([[1., 2.],\n",
      "        [3., 4.]])\n",
      "torch.Size([2, 2])\n"
     ]
    }
   ],
   "source": [
    "x = torch.FloatTensor([[1, 2],\n",
    "                       [3, 4]])\n",
    "\n",
    "print(x)\n",
    "print(x.size())"
   ]
  },
  {
   "cell_type": "code",
   "execution_count": 14,
   "metadata": {},
   "outputs": [
    {
     "name": "stdout",
     "output_type": "stream",
     "text": [
      "tensor([[[1.],\n",
      "         [2.]],\n",
      "\n",
      "        [[3.],\n",
      "         [4.]]])\n",
      "torch.Size([2, 2, 1])\n"
     ]
    }
   ],
   "source": [
    "# unsqueeze() : 특정 dimension에 '1' 더함 \n",
    "print(x.unsqueeze(2)) \n",
    "# 3번째 dimension에 '1' 첨가 \n",
    "print(x.unsqueeze(2).size())"
   ]
  },
  {
   "cell_type": "code",
   "execution_count": 15,
   "metadata": {},
   "outputs": [
    {
     "name": "stdout",
     "output_type": "stream",
     "text": [
      "tensor([[[1.],\n",
      "         [2.]],\n",
      "\n",
      "        [[3.],\n",
      "         [4.]]])\n",
      "torch.Size([2, 2, 1])\n"
     ]
    }
   ],
   "source": [
    "print(x.unsqueeze(-1))\n",
    "print(x.unsqueeze(-1).size())"
   ]
  },
  {
   "cell_type": "code",
   "execution_count": 16,
   "metadata": {},
   "outputs": [
    {
     "name": "stdout",
     "output_type": "stream",
     "text": [
      "tensor([[[1.],\n",
      "         [2.]],\n",
      "\n",
      "        [[3.],\n",
      "         [4.]]])\n"
     ]
    }
   ],
   "source": [
    "print(x.reshape(2, 2, -1))"
   ]
  },
  {
   "cell_type": "code",
   "execution_count": null,
   "metadata": {},
   "outputs": [],
   "source": []
  }
 ],
 "metadata": {
  "kernelspec": {
   "display_name": "Python 3",
   "language": "python",
   "name": "python3"
  },
  "language_info": {
   "codemirror_mode": {
    "name": "ipython",
    "version": 3
   },
   "file_extension": ".py",
   "mimetype": "text/x-python",
   "name": "python",
   "nbconvert_exporter": "python",
   "pygments_lexer": "ipython3",
   "version": "3.11.7"
  }
 },
 "nbformat": 4,
 "nbformat_minor": 2
}
