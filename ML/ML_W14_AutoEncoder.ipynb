{
  "nbformat": 4,
  "nbformat_minor": 0,
  "metadata": {
    "colab": {
      "provenance": []
    },
    "kernelspec": {
      "name": "python3",
      "display_name": "Python 3"
    },
    "language_info": {
      "name": "python"
    }
  },
  "cells": [
    {
      "cell_type": "code",
      "execution_count": 28,
      "metadata": {
        "id": "PtbaQFe8Q2Z_"
      },
      "outputs": [],
      "source": [
        "import numpy as np\n",
        "import pandas as pd\n",
        "import matplotlib.pyplot as plt\n",
        "\n",
        "import keras\n",
        "from keras import layers\n",
        "\n",
        "from keras.datasets import mnist"
      ]
    },
    {
      "cell_type": "code",
      "source": [
        "# 데이터 불러오기\n",
        "\n",
        "(x_train, _), (x_test, _) = mnist.load_data()\n",
        "# y_train, y_test 사용 안함\n",
        "# 이미지 데이터 구성 (이미지, 라벨)\n",
        "# 여기서는 이미지만 사용"
      ],
      "metadata": {
        "id": "Z5X38Bm5RKId"
      },
      "execution_count": 29,
      "outputs": []
    },
    {
      "cell_type": "code",
      "source": [
        "# 0과 1사이(0-1) 로 정규화\n",
        "\n",
        "x_train = x_train.astype('float32') / 255\n",
        "x_test = x_test.astype('float32') / 255"
      ],
      "metadata": {
        "id": "2EqkaixHR0Il"
      },
      "execution_count": 30,
      "outputs": []
    },
    {
      "cell_type": "code",
      "source": [
        "print(len(x_train))\n",
        "print(len(x_test))\n",
        "# 훈련용 이미지 60000, 테스트용 이미지 10000"
      ],
      "metadata": {
        "colab": {
          "base_uri": "https://localhost:8080/"
        },
        "id": "VQmbUy_LSF1Y",
        "outputId": "c44d1380-adc9-4db1-ea4d-6f2b4daa2f7f"
      },
      "execution_count": 31,
      "outputs": [
        {
          "output_type": "stream",
          "name": "stdout",
          "text": [
            "60000\n",
            "10000\n"
          ]
        }
      ]
    },
    {
      "cell_type": "code",
      "source": [
        "x_train.shape\n",
        "# 28*28 크기의 이미지 60000장"
      ],
      "metadata": {
        "colab": {
          "base_uri": "https://localhost:8080/"
        },
        "id": "i-L3RPXvSLFN",
        "outputId": "d93f057a-669c-4108-f5fc-1b5cfbb24be9"
      },
      "execution_count": 32,
      "outputs": [
        {
          "output_type": "execute_result",
          "data": {
            "text/plain": [
              "(60000, 28, 28)"
            ]
          },
          "metadata": {},
          "execution_count": 32
        }
      ]
    },
    {
      "cell_type": "code",
      "source": [
        "x_train.shape[1:] #이미지 크기 (2차원)"
      ],
      "metadata": {
        "colab": {
          "base_uri": "https://localhost:8080/"
        },
        "id": "YYF0Gr0LSTI7",
        "outputId": "5d976817-efea-4011-b55c-b8f74bbd08aa"
      },
      "execution_count": 33,
      "outputs": [
        {
          "output_type": "execute_result",
          "data": {
            "text/plain": [
              "(28, 28)"
            ]
          },
          "metadata": {},
          "execution_count": 33
        }
      ]
    },
    {
      "cell_type": "code",
      "source": [
        "# np.prod(x_train.shape[1:]) (1차원)\n",
        "# 28*28= 784 / prod() 주어진 배열이나 튜플의 모든 요소 곱하기"
      ],
      "metadata": {
        "id": "5NyQS6X3SaZ8"
      },
      "execution_count": 34,
      "outputs": []
    },
    {
      "cell_type": "code",
      "source": [
        "x_train = x_train.reshape((len(x_train), np.prod(x_train.shape[1:])))\n",
        "x_test = x_test.reshape((len(x_test), np.prod(x_test.shape[1:])))"
      ],
      "metadata": {
        "id": "rV4Pwxt_SjHb"
      },
      "execution_count": 35,
      "outputs": []
    },
    {
      "cell_type": "code",
      "source": [
        "x_train.shape, x_test.shape"
      ],
      "metadata": {
        "colab": {
          "base_uri": "https://localhost:8080/"
        },
        "id": "DKstKjSATDb_",
        "outputId": "cd6d8d3e-6f03-4522-e591-dc158dee2f10"
      },
      "execution_count": 36,
      "outputs": [
        {
          "output_type": "execute_result",
          "data": {
            "text/plain": [
              "((60000, 784), (10000, 784))"
            ]
          },
          "metadata": {},
          "execution_count": 36
        }
      ]
    },
    {
      "cell_type": "markdown",
      "source": [
        "autoencoder 모델 생성"
      ],
      "metadata": {
        "id": "6M-u37ucTRsE"
      }
    },
    {
      "cell_type": "code",
      "source": [
        "# encoding 되는 차원 수\n",
        "encoding_dim = 32\n",
        "\n",
        "#input layer\n",
        "input_img = keras.Input(shape=(784, ))\n",
        "# 784 >> 1차원으로 들어감\n",
        "\n",
        "# hidden layer(784 차원 >> 32 차원)\n",
        "encoded = layers.Dense(encoding_dim, activation='relu')(input_img)\n",
        "# Dense(): 1차원\n",
        "\n",
        "# output layer(32차원 >> 784차원)\n",
        "decoded = layers.Dense(784, activation='sigmoid')(encoded)\n",
        "# 왜 784차원으로 나오면 다중 분류니깐 softmax 써야 되는 거 아니예요?\n",
        "# 일반적으로 다중분류는 softmax.\n",
        "# 오토인코더는 복원하는 인공지능 기법 (출력값은 0 또는 1사이로 제한)\n",
        "\n",
        "# autoencoder model\n",
        "autoencoder = keras.Model(input_img, decoded)"
      ],
      "metadata": {
        "id": "jzwLQ8t1TGA1"
      },
      "execution_count": 37,
      "outputs": []
    },
    {
      "cell_type": "code",
      "source": [
        "autoencoder.summary()"
      ],
      "metadata": {
        "colab": {
          "base_uri": "https://localhost:8080/"
        },
        "id": "0nCq7PILWZE6",
        "outputId": "2943561a-82ef-46f4-98b3-baf0d0b94946"
      },
      "execution_count": 38,
      "outputs": [
        {
          "output_type": "stream",
          "name": "stdout",
          "text": [
            "Model: \"model_1\"\n",
            "_________________________________________________________________\n",
            " Layer (type)                Output Shape              Param #   \n",
            "=================================================================\n",
            " input_2 (InputLayer)        [(None, 784)]             0         \n",
            "                                                                 \n",
            " dense_2 (Dense)             (None, 32)                25120     \n",
            "                                                                 \n",
            " dense_3 (Dense)             (None, 784)               25872     \n",
            "                                                                 \n",
            "=================================================================\n",
            "Total params: 50992 (199.19 KB)\n",
            "Trainable params: 50992 (199.19 KB)\n",
            "Non-trainable params: 0 (0.00 Byte)\n",
            "_________________________________________________________________\n"
          ]
        }
      ]
    },
    {
      "cell_type": "markdown",
      "source": [
        "autoencdoer 학습"
      ],
      "metadata": {
        "id": "SKmieT99WeSP"
      }
    },
    {
      "cell_type": "code",
      "source": [
        "autoencoder.compile(optimizer='adam', loss='binary_crossentropy')\n",
        "\n",
        "# 적합 (training, fitting)\n",
        "\n",
        "autoencoder.fit(x_train, x_train,\n",
        "                epochs=20,\n",
        "                batch_size=256,\n",
        "                shuffle=True,\n",
        "                validation_data=(x_test, x_test))\n",
        "\n",
        "# 왜 x_train을 두 번 넣나요?\n",
        "# 앞의 x_train 입력값, 뒤의 x_train 출력값\n",
        "# 입력데이터와 출력데이터가 동일한 자기 지도 학습\n",
        "# >>> 복원하는 과정에서 중요한 특징을 추출하기 위해"
      ],
      "metadata": {
        "colab": {
          "base_uri": "https://localhost:8080/"
        },
        "id": "T1cRL0k-WayA",
        "outputId": "3c6fbb51-d62f-4b71-e12b-fcc784c22df9"
      },
      "execution_count": 39,
      "outputs": [
        {
          "output_type": "stream",
          "name": "stdout",
          "text": [
            "Epoch 1/20\n",
            "235/235 [==============================] - 5s 18ms/step - loss: 0.2772 - val_loss: 0.1857\n",
            "Epoch 2/20\n",
            "235/235 [==============================] - 2s 10ms/step - loss: 0.1686 - val_loss: 0.1521\n",
            "Epoch 3/20\n",
            "235/235 [==============================] - 3s 11ms/step - loss: 0.1434 - val_loss: 0.1333\n",
            "Epoch 4/20\n",
            "235/235 [==============================] - 3s 11ms/step - loss: 0.1280 - val_loss: 0.1204\n",
            "Epoch 5/20\n",
            "235/235 [==============================] - 3s 13ms/step - loss: 0.1174 - val_loss: 0.1120\n",
            "Epoch 6/20\n",
            "235/235 [==============================] - 5s 21ms/step - loss: 0.1103 - val_loss: 0.1064\n",
            "Epoch 7/20\n",
            "235/235 [==============================] - 3s 14ms/step - loss: 0.1055 - val_loss: 0.1022\n",
            "Epoch 8/20\n",
            "235/235 [==============================] - 3s 11ms/step - loss: 0.1019 - val_loss: 0.0992\n",
            "Epoch 9/20\n",
            "235/235 [==============================] - 3s 14ms/step - loss: 0.0993 - val_loss: 0.0971\n",
            "Epoch 10/20\n",
            "235/235 [==============================] - 4s 15ms/step - loss: 0.0975 - val_loss: 0.0954\n",
            "Epoch 11/20\n",
            "235/235 [==============================] - 3s 13ms/step - loss: 0.0962 - val_loss: 0.0944\n",
            "Epoch 12/20\n",
            "235/235 [==============================] - 3s 14ms/step - loss: 0.0954 - val_loss: 0.0938\n",
            "Epoch 13/20\n",
            "235/235 [==============================] - 6s 24ms/step - loss: 0.0948 - val_loss: 0.0934\n",
            "Epoch 14/20\n",
            "235/235 [==============================] - 4s 17ms/step - loss: 0.0944 - val_loss: 0.0931\n",
            "Epoch 15/20\n",
            "235/235 [==============================] - 3s 14ms/step - loss: 0.0942 - val_loss: 0.0928\n",
            "Epoch 16/20\n",
            "235/235 [==============================] - 3s 11ms/step - loss: 0.0940 - val_loss: 0.0927\n",
            "Epoch 17/20\n",
            "235/235 [==============================] - 3s 13ms/step - loss: 0.0938 - val_loss: 0.0926\n",
            "Epoch 18/20\n",
            "235/235 [==============================] - 4s 19ms/step - loss: 0.0937 - val_loss: 0.0925\n",
            "Epoch 19/20\n",
            "235/235 [==============================] - 2s 10ms/step - loss: 0.0936 - val_loss: 0.0924\n",
            "Epoch 20/20\n",
            "235/235 [==============================] - 3s 12ms/step - loss: 0.0936 - val_loss: 0.0923\n"
          ]
        },
        {
          "output_type": "execute_result",
          "data": {
            "text/plain": [
              "<keras.src.callbacks.History at 0x79afff733640>"
            ]
          },
          "metadata": {},
          "execution_count": 39
        }
      ]
    },
    {
      "cell_type": "code",
      "source": [
        "# 학습 결과 확인\n",
        "\n",
        "decoded_imgs = autoencoder.predict(x_test)\n",
        "decoded_imgs"
      ],
      "metadata": {
        "colab": {
          "base_uri": "https://localhost:8080/"
        },
        "id": "u501WJnaXl_N",
        "outputId": "982099df-3ecd-4489-bbeb-b5aadcc3d76c"
      },
      "execution_count": 40,
      "outputs": [
        {
          "output_type": "stream",
          "name": "stdout",
          "text": [
            "313/313 [==============================] - 1s 3ms/step\n"
          ]
        },
        {
          "output_type": "execute_result",
          "data": {
            "text/plain": [
              "array([[2.0139343e-08, 1.4790064e-08, 7.2885209e-09, ..., 1.2518142e-08,\n",
              "        1.6945641e-08, 4.0715951e-09],\n",
              "       [1.8240808e-11, 8.3448227e-11, 2.3449745e-10, ..., 4.8111508e-11,\n",
              "        1.0063704e-10, 6.0218219e-10],\n",
              "       [7.5837232e-07, 5.2274913e-07, 1.4675829e-06, ..., 3.2426940e-06,\n",
              "        2.0146872e-06, 4.7620591e-07],\n",
              "       ...,\n",
              "       [1.6304980e-12, 7.3072559e-13, 1.7519436e-12, ..., 7.0803552e-13,\n",
              "        2.8496725e-13, 4.7551123e-13],\n",
              "       [8.1869789e-11, 7.1258846e-11, 3.3457771e-11, ..., 3.7383621e-11,\n",
              "        1.1854611e-11, 3.1473137e-11],\n",
              "       [1.2167056e-17, 7.2114614e-19, 6.6951589e-18, ..., 1.0157849e-18,\n",
              "        2.4652378e-19, 7.7465481e-18]], dtype=float32)"
            ]
          },
          "metadata": {},
          "execution_count": 40
        }
      ]
    },
    {
      "cell_type": "code",
      "source": [
        "n = 10\n",
        "\n",
        "plt.figure(figsize=(20,4))\n",
        "for i in range(n):\n",
        "    # display original image\n",
        "    ax = plt.subplot(2, n, i+1)\n",
        "    plt.imshow(x_test[i].reshape(28,28))\n",
        "    plt.gray()\n",
        "    ax.get_xaxis().set_visible(False)\n",
        "    ax.get_yaxis().set_visible(False)\n",
        "\n",
        "    # display reconstruction (복원된 이미지)\n",
        "    ax = plt.subplot(2, n, i+1+n)\n",
        "    plt.imshow(decoded_imgs[i].reshape(28,28)) #2차원 이미지로 복원\n",
        "    plt.gray()\n",
        "    ax.get_xaxis().set_visible(False)\n",
        "    ax.get_yaxis().set_visible(False)\n",
        "\n",
        "plt.show()"
      ],
      "metadata": {
        "colab": {
          "base_uri": "https://localhost:8080/",
          "height": 215
        },
        "id": "NtGFrNk2cUmu",
        "outputId": "ad4407b6-336c-4565-c1a1-a4b97ba84dc8"
      },
      "execution_count": 42,
      "outputs": [
        {
          "output_type": "display_data",
          "data": {
            "text/plain": [
              "<Figure size 2000x400 with 20 Axes>"
            ],
            "image/png": "[encoded data removed]"
          },
          "metadata": {}
        }
      ]
    },
    {
      "cell_type": "code",
      "source": [],
      "metadata": {
        "id": "HEYCvNWedby9"
      },
      "execution_count": null,
      "outputs": []
    }
  ]
}